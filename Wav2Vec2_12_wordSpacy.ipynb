{
 "cells": [
  {
   "cell_type": "code",
   "execution_count": null,
   "metadata": {},
   "outputs": [],
   "source": [
    "from datasets import load_from_disk, load_dataset\n",
    "\n",
    "common_voice_train = load_dataset(\"common_voice\", \"de\", split=\"train\", cache_dir=\"D:\\Master\\wsl\\data\")\n",
    "common_voice_validation = load_dataset(\"common_voice\", \"de\", split=\"validation\", cache_dir=\"D:\\Master\\wsl\\data\")\n",
    "common_voice_test = load_dataset(\"common_voice\", \"de\", split=\"test\", cache_dir=\"D:\\Master\\wsl\\data\")"
   ]
  },
  {
   "cell_type": "code",
   "execution_count": null,
   "metadata": {},
   "outputs": [],
   "source": [
    "common_voice_train = common_voice_train.remove_columns([\"path\",\"accent\", \"age\", \"client_id\", \"down_votes\", \"gender\", \"locale\", \"segment\", \"up_votes\"])\n",
    "common_voice_validation = common_voice_validation.remove_columns([\"path\",\"accent\", \"age\", \"client_id\", \"down_votes\", \"gender\", \"locale\", \"segment\", \"up_votes\"])\n",
    "common_voice_test = common_voice_test.remove_columns([\"path\",\"accent\", \"age\", \"client_id\", \"down_votes\", \"gender\", \"locale\", \"segment\", \"up_votes\"])"
   ]
  },
  {
   "cell_type": "markdown",
   "metadata": {},
   "source": [
    "# Preprocess Text "
   ]
  },
  {
   "cell_type": "code",
   "execution_count": null,
   "metadata": {},
   "outputs": [],
   "source": [
    "import re\n",
    "chars_to_keep = '[^A-Za-zäüöß ]+'\n",
    "\n",
    "def remove_special_characters_chris(batch):\n",
    "    batch[\"sentence\"] = re.sub(chars_to_keep, '', batch[\"sentence\"]).lower() + \" \"\n",
    "    return batch"
   ]
  },
  {
   "cell_type": "code",
   "execution_count": null,
   "metadata": {},
   "outputs": [],
   "source": [
    "common_voice_train = common_voice_train.map(remove_special_characters_chris)\n",
    "common_voice_validation = common_voice_validation.map(remove_special_characters_chris)\n",
    "common_voice_test = common_voice_test.map(remove_special_characters_chris)"
   ]
  },
  {
   "cell_type": "code",
   "execution_count": null,
   "metadata": {},
   "outputs": [],
   "source": [
    "common_voice_validation.save_to_disk(\"E:/Master/data/val_text\")\n",
    "common_voice_train.save_to_disk(\"E:/Master/data/train_text\")\n",
    "common_voice_test.save_to_disk(\"E:/Master/data/test_text\")"
   ]
  },
  {
   "cell_type": "markdown",
   "metadata": {},
   "source": [
    "# Load Text Dataset"
   ]
  },
  {
   "cell_type": "code",
   "execution_count": 14,
   "metadata": {},
   "outputs": [],
   "source": [
    "from datasets import load_from_disk, load_dataset\n",
    "\n",
    "val_text_dataset = load_from_disk(\"E:/Master/data/val_text\")"
   ]
  },
  {
   "cell_type": "code",
   "execution_count": 5,
   "metadata": {},
   "outputs": [],
   "source": [
    "import spacy\n",
    "nlp = spacy.load(\"de_core_news_sm\")"
   ]
  },
  {
   "cell_type": "code",
   "execution_count": 6,
   "metadata": {},
   "outputs": [],
   "source": [
    "val_complete_text = \"\""
   ]
  },
  {
   "cell_type": "code",
   "execution_count": 18,
   "metadata": {},
   "outputs": [
    {
     "data": {
      "text/plain": [
       "15588"
      ]
     },
     "execution_count": 18,
     "metadata": {},
     "output_type": "execute_result"
    }
   ],
   "source": [
    "val_text_dataset.shape[0]"
   ]
  },
  {
   "cell_type": "code",
   "execution_count": 26,
   "metadata": {},
   "outputs": [
    {
     "name": "stderr",
     "output_type": "stream",
     "text": [
      "100%|█████████████████████████████████████████████████████████████████████████| 15588/15588 [00:00<00:00, 35586.68it/s]\n"
     ]
    }
   ],
   "source": [
    "from tqdm import tqdm\n",
    "\n",
    "for i in tqdm(range(val_text_dataset.shape[0])):\n",
    "    val_complete_text = val_complete_text + val_text_dataset[i]['sentence']"
   ]
  },
  {
   "cell_type": "code",
   "execution_count": 27,
   "metadata": {},
   "outputs": [
    {
     "data": {
      "text/plain": [
       "997429"
      ]
     },
     "execution_count": 27,
     "metadata": {},
     "output_type": "execute_result"
    }
   ],
   "source": [
    "len(val_complete_text)"
   ]
  },
  {
   "cell_type": "code",
   "execution_count": 28,
   "metadata": {},
   "outputs": [],
   "source": [
    "val_doc = nlp(val_complete_text)"
   ]
  },
  {
   "cell_type": "code",
   "execution_count": 30,
   "metadata": {},
   "outputs": [],
   "source": [
    "# all tokens that arent stop words or punctuations\n",
    "words = [token.text\n",
    "         for token in val_doc\n",
    "         if not token.is_stop and not token.is_punct]"
   ]
  },
  {
   "cell_type": "code",
   "execution_count": 31,
   "metadata": {},
   "outputs": [],
   "source": [
    "# noun tokens that arent stop words or punctuations\n",
    "nouns = [token.text\n",
    "         for token in val_doc\n",
    "         if (not token.is_stop and\n",
    "             not token.is_punct and\n",
    "             token.pos_ == \"NOUN\")]"
   ]
  },
  {
   "cell_type": "code",
   "execution_count": 57,
   "metadata": {},
   "outputs": [],
   "source": [
    "from collections import Counter\n",
    "\n",
    "# five most common tokens\n",
    "word_freq = Counter(words)\n",
    "common_words = word_freq.most_common(300)"
   ]
  },
  {
   "cell_type": "code",
   "execution_count": 58,
   "metadata": {},
   "outputs": [],
   "source": [
    "# five most common noun tokens\n",
    "noun_freq = Counter(nouns)\n",
    "common_nouns = noun_freq.most_common(300)"
   ]
  },
  {
   "cell_type": "code",
   "execution_count": 40,
   "metadata": {},
   "outputs": [
    {
     "name": "stdout",
     "output_type": "stream",
     "text": [
      "8332\n"
     ]
    }
   ],
   "source": [
    "print(len(nouns))"
   ]
  },
  {
   "cell_type": "code",
   "execution_count": 59,
   "metadata": {},
   "outputs": [
    {
     "name": "stdout",
     "output_type": "stream",
     "text": [
      "[('stadt', 72), ('hauptstadt', 71), ('sohn', 66), ('namen', 56), ('menschen', 55), ('frau', 48), ('bericht', 43), ('arbeit', 41), ('werk', 38), ('universität', 38), ('form', 34), ('region', 31), ('grund', 30), ('kirche', 30), ('weltkrieg', 29), ('tod', 28), ('land', 28), ('film', 27), ('name', 27), ('gruppe', 26), ('problem', 26), ('thema', 25), ('burg', 23), ('seiten', 23), ('straße', 23), ('fall', 23), ('staaten', 22), ('situation', 21), ('entwicklung', 21), ('titel', 21), ('bevölkerung', 21), ('buch', 21), ('ziel', 21), ('einsatz', 19), ('hilfe', 19), ('sitz', 19), ('musik', 19), ('bedeutung', 19), ('werke', 18), ('programm', 18), ('gegensatz', 18), ('saison', 18), ('wort', 18), ('mannschaft', 18), ('ort', 17), ('zukunft', 16), ('schule', 16), ('folge', 16), ('firma', 16), ('position', 16), ('erfolg', 16), ('art', 16), ('verein', 16), ('bau', 15), ('bezeichnung', 15), ('herrschaft', 15), ('industrie', 15), ('stil', 15), ('mutter', 15), ('welt', 15), ('familie', 15), ('partei', 15), ('nacht', 15), ('richtung', 15), ('ergebnis', 15), ('reihe', 14), ('seite', 14), ('lösung', 14), ('unterstützung', 14), ('regierung', 14), ('mitglieder', 14), ('bild', 14), ('jahres', 14), ('spiel', 13), ('polizei', 13), ('geld', 13), ('gesetz', 13), ('union', 13), ('wahl', 13), ('vertrag', 12), ('fraktion', 12), ('einwohner', 12), ('demokratie', 12), ('lage', 12), ('ansatz', 12), ('debatte', 12), ('frage', 12), ('linie', 12), ('bahnhof', 12), ('see', 12), ('kilometer', 12), ('politik', 11), ('höhe', 11), ('zeitung', 11), ('leute', 11), ('woche', 11), ('ortes', 11), ('turm', 11), ('kunst', 11), ('verwaltung', 11), ('hand', 11), ('frauen', 11), ('qualität', 11), ('erde', 11), ('team', 11), ('umgebung', 11), ('bezug', 10), ('nationalsozialismus', 10), ('druck', 10), ('tourismus', 10), ('anerkennung', 10), ('tal', 10), ('raum', 10), ('station', 10), ('album', 10), ('länder', 10), ('entscheidung', 10), ('funktion', 10), ('angebot', 10), ('krieges', 10), ('siedlung', 10), ('verantwortung', 10), ('darstellung', 10), ('karriere', 9), ('weltkrieges', 9), ('landes', 9), ('kanton', 9), ('krieg', 9), ('studium', 9), ('mitte', 9), ('verfassung', 9), ('anzahl', 9), ('park', 9), ('wohnung', 9), ('stimme', 9), ('wiederaufbau', 9), ('millionen', 9), ('gründung', 9), ('westen', 9), ('geschichte', 9), ('heimat', 9), ('staat', 9), ('regie', 9), ('energie', 8), ('verordnung', 8), ('blüten', 8), ('berg', 8), ('stück', 8), ('gesellschaft', 8), ('kreis', 8), ('mann', 8), ('films', 8), ('organisation', 8), ('auftrag', 8), ('salz', 8), ('song', 8), ('verfügung', 8), ('schutz', 8), ('tür', 8), ('gemeinde', 8), ('medien', 8), ('herkunft', 8), ('verbreitung', 8), ('klosters', 8), ('meinung', 8), ('dialog', 8), ('stein', 7), ('bürger', 7), ('bekämpfung', 7), ('richtlinie', 7), ('kultur', 7), ('rolle', 7), ('partner', 7), ('kampf', 7), ('fernsehserie', 7), ('ländern', 7), ('nderungsantrag', 7), ('lebens', 7), ('ortsteil', 7), ('sammlung', 7), ('bruder', 7), ('ausstellung', 7), ('russland', 7), ('architektur', 7), ('serie', 7), ('kinder', 7), ('rat', 7), ('grenze', 7), ('männer', 7), ('volk', 7), ('aufbau', 7), ('gebiet', 7), ('ausbildung', 7), ('rücktritt', 7), ('betrieb', 7), ('eindruck', 7), ('prinzip', 7), ('beteiligung', 7), ('theorie', 7), ('parlament', 7), ('präsident', 7), ('vater', 7), ('status', 6), ('interesse', 6), ('ministerium', 6), ('stadtteil', 6), ('literatur', 6), ('herbst', 6), ('behandlung', 6), ('versorgung', 6), ('konzept', 6), ('liste', 6), ('mittelpunkt', 6), ('laufbahn', 6), ('abschluss', 6), ('sprache', 6), ('wesentlichen', 6), ('rede', 6), ('antwort', 6), ('nachfolger', 6), ('rang', 6), ('gefahr', 6), ('chance', 6), ('beziehung', 6), ('tradition', 6), ('unternehmens', 6), ('einführung', 6), ('person', 6), ('veranstaltung', 6), ('winter', 6), ('bersetzung', 6), ('leitung', 6), ('gesetzgebung', 6), ('punkte', 6), ('sieg', 6), ('wirkung', 6), ('markt', 6), ('entwurf', 6), ('mensch', 6), ('anlage', 6), ('system', 6), ('herstellung', 6), ('amtszeit', 6), ('museums', 6), ('förderung', 6), ('prozess', 5), ('tagesordnung', 5), ('kritik', 5), ('gemeindeebene', 5), ('satz', 5), ('stärke', 5), ('kategorie', 5), ('verkauf', 5), ('szene', 5), ('monaten', 5), ('nutzung', 5), ('blick', 5), ('vereins', 5), ('bank', 5), ('antrag', 5), ('grundlage', 5), ('studie', 5), ('zahl', 5), ('religion', 5), ('professur', 5), ('anordnung', 5), ('entschließung', 5), ('basis', 5), ('erklärung', 5), ('söhne', 5), ('maschine', 5), ('erweiterung', 5), ('existenz', 5), ('koalition', 5), ('fassung', 5), ('personen', 5), ('wagen', 5), ('bischof', 5), ('messung', 5), ('studiums', 5), ('version', 5), ('sicherung', 5), ('gang', 5), ('stabilität', 5), ('mark', 5), ('führung', 5), ('prozent', 5), ('königs', 5), ('wirtschaft', 5), ('haus', 5), ('inseln', 5), ('platz', 5), ('fluss', 5), ('herausforderung', 5), ('ruf', 5), ('arzt', 5), ('kollegen', 5), ('anschluss', 5), ('idee', 5), ('künstler', 5)]\n"
     ]
    }
   ],
   "source": [
    "print(common_nouns)"
   ]
  },
  {
   "cell_type": "code",
   "execution_count": 60,
   "metadata": {},
   "outputs": [
    {
     "name": "stdout",
     "output_type": "stream",
     "text": [
      "[('liegt', 201), ('mal', 131), ('stadt', 130), ('befindet', 101), ('steht', 86), ('gemeinde', 83), ('gehört', 82), ('deutschen', 80), ('hauptstadt', 78), ('ort', 78), ('herr', 77), ('frau', 77), ('gilt', 77), ('sohn', 77), ('zahlreiche', 72), ('kinder', 71), ('ebenfalls', 71), ('mehrere', 71), ('lassen', 68), ('namen', 67), ('leben', 66), ('meist', 66), ('zudem', 65), ('studierte', 65), ('menschen', 64), ('findet', 62), ('anschließend', 61), ('platz', 61), ('tätig', 57), ('deutschland', 56), ('besteht', 55), ('verschiedenen', 54), ('sehen', 54), ('berlin', 54), ('benannt', 53), ('weltkrieg', 53), ('geschichte', 53), ('lässt', 53), ('arbeitete', 52), ('bezeichnet', 52), ('kirche', 52), ('verwendet', 52), ('kommission', 51), ('bedeutung', 51), ('europa', 51), ('finden', 50), ('lebt', 49), ('begann', 49), ('unternehmen', 49), ('vater', 47), ('gebäude', 47), ('frage', 47), ('meisten', 46), ('bitte', 46), ('sitz', 46), ('insbesondere', 46), ('sowohl', 46), ('bericht', 45), ('führte', 45), ('wasser', 45), ('stand', 45), ('einfach', 44), ('schließlich', 44), ('weg', 44), ('familie', 44), ('spielte', 44), ('erhalten', 44), ('wissen', 43), ('arbeiten', 43), ('gleichzeitig', 43), ('erhielt', 43), ('mitglied', 43), ('band', 42), ('of', 42), ('verheiratet', 42), ('arbeit', 42), ('universität', 42), ('letzten', 42), ('gehörte', 42), ('befinden', 41), ('blieb', 41), ('verschiedene', 41), ('fast', 41), ('stark', 40), ('land', 40), ('name', 39), ('trat', 39), ('werk', 39), ('rolle', 39), ('titel', 39), ('häufig', 39), ('stehen', 39), ('tochter', 38), ('weiß', 38), ('gewann', 38), ('bereich', 38), ('hinaus', 38), ('art', 38), ('jeweils', 38), ('grund', 37), ('sieht', 37), ('geboren', 37), ('begriff', 37), ('genannt', 37), ('problem', 37), ('ber', 37), ('teilweise', 37), ('eingesetzt', 37), ('genau', 36), ('welt', 36), ('politischen', 36), ('mutter', 36), ('hauptsächlich', 36), ('genutzt', 36), ('weiterhin', 36), ('deutsche', 36), ('stellt', 36), ('führt', 35), ('fall', 35), ('ausbildung', 35), ('film', 35), ('nehmen', 35), ('liegen', 35), ('aufgrund', 35), ('handelt', 35), ('europäischen', 34), ('form', 34), ('innerhalb', 34), ('union', 34), ('fand', 33), ('präsident', 33), ('ursprünglich', 33), ('fragen', 33), ('musik', 33), ('ziel', 33), ('münchen', 33), ('region', 32), ('thema', 32), ('gebiet', 32), ('dorf', 32), ('staaten', 31), ('schnell', 31), ('tod', 31), ('wuchs', 31), ('paar', 30), ('spiel', 30), ('besuchte', 30), ('schrieb', 30), ('arten', 30), ('bildet', 30), ('zeigt', 30), ('inzwischen', 30), ('schule', 29), ('mann', 29), ('selben', 29), ('schloss', 29), ('album', 29), ('bahnhof', 29), ('entwicklung', 29), ('insel', 29), ('wort', 29), ('stelle', 29), ('gleichen', 29), ('aufgabe', 29), ('nächsten', 28), ('dennoch', 28), ('burg', 28), ('derzeit', 28), ('lebte', 28), ('alte', 28), ('folgenden', 28), ('diente', 28), ('richtung', 28), ('spielen', 28), ('alten', 28), ('new', 28), ('selten', 28), ('halten', 28), ('parlament', 28), ('stammt', 28), ('stellen', 28), ('werke', 27), ('krieg', 27), ('errichtet', 27), ('bedeutet', 27), ('jedes', 27), ('größte', 27), ('letzte', 27), ('bruder', 27), ('straße', 27), ('eher', 27), ('sagen', 27), ('geben', 27), ('gruppe', 27), ('verein', 27), ('karriere', 26), ('haus', 26), ('überwiegend', 26), ('rahmen', 26), ('sicher', 26), ('besitzt', 26), ('verbunden', 26), ('wien', 26), ('the', 26), ('erneut', 26), ('direkt', 26), ('erfolg', 26), ('daraufhin', 26), ('reihe', 25), ('vertrag', 25), ('tiere', 25), ('wechselte', 25), ('sogar', 25), ('trägt', 25), ('bestand', 25), ('programm', 25), ('veröffentlicht', 25), ('regel', 25), ('einsatz', 25), ('hilfe', 25), ('wichtig', 25), ('bleiben', 25), ('alter', 25), ('bevölkerung', 25), ('insgesamt', 25), ('folge', 25), ('zog', 25), ('erfolgreich', 25), ('schüler', 25), ('zweimal', 25), ('absolvierte', 24), ('bleibt', 24), ('bundesliga', 24), ('europäische', 24), ('mittlerweile', 24), ('westen', 24), ('eigentlich', 24), ('zukunft', 24), ('deutlich', 24), ('fanden', 24), ('mehrfach', 24), ('de', 24), ('sprache', 24), ('einzige', 24), ('dar', 24), ('führen', 23), ('folgte', 23), ('spricht', 23), ('seiten', 23), ('versucht', 23), ('mehreren', 23), ('einzelnen', 23), ('bücher', 23), ('wahrscheinlich', 23), ('neu', 23), ('frauen', 23), ('osten', 23), ('zahlreichen', 23), ('teile', 23), ('buch', 23), ('hält', 23), ('punkt', 23), ('könig', 23), ('tatsächlich', 22), ('kind', 22), ('bahnstrecke', 22), ('dient', 22), ('erfolgt', 22), ('spielt', 22), ('probleme', 22), ('beginnt', 22), ('geld', 22), ('rat', 22), ('maßnahmen', 22), ('größten', 22), ('gewählt', 22), ('mannschaft', 22), ('strecke', 22), ('kilometer', 22), ('kamen', 22), ('söhne', 22), ('wichtige', 22), ('verwendung', 22), ('bevor', 21), ('situation', 21), ('politik', 21), ('hierbei', 21), ('weise', 21), ('gelang', 21), ('gefunden', 21), ('norden', 21), ('möglichkeit', 21), ('paul', 21), ('klar', 21), ('entstand', 21), ('university', 21), ('entwickelt', 21), ('folgten', 21), ('betrieb', 21), ('betrieben', 21)]\n"
     ]
    }
   ],
   "source": [
    "print(common_words)"
   ]
  },
  {
   "cell_type": "code",
   "execution_count": null,
   "metadata": {},
   "outputs": [],
   "source": []
  }
 ],
 "metadata": {
  "kernelspec": {
   "display_name": "Python 3",
   "language": "python",
   "name": "python3"
  },
  "language_info": {
   "codemirror_mode": {
    "name": "ipython",
    "version": 3
   },
   "file_extension": ".py",
   "mimetype": "text/x-python",
   "name": "python",
   "nbconvert_exporter": "python",
   "pygments_lexer": "ipython3",
   "version": "3.8.3"
  }
 },
 "nbformat": 4,
 "nbformat_minor": 4
}

{
 "cells": [
  {
   "cell_type": "code",
   "execution_count": 1,
   "metadata": {},
   "outputs": [],
   "source": [
    "import torch\n",
    "import kenlm\n",
    "import ctcdecode\n",
    "import numpy as np\n",
    "from transformers import Wav2Vec2ForCTC, Wav2Vec2Processor, Wav2Vec2CTCTokenizer, Wav2Vec2FeatureExtractor"
   ]
  },
  {
   "cell_type": "code",
   "execution_count": null,
   "metadata": {},
   "outputs": [],
   "source": [
    "tokenizer = Wav2Vec2CTCTokenizer(\"./vocab.json\", unk_token=\"[UNK]\", pad_token=\"[PAD]\", word_delimiter_token=\"|\")\n",
    "feature_extractor = Wav2Vec2FeatureExtractor(feature_size=1, sampling_rate=16000, padding_value=0.0, do_normalize=True, return_attention_mask=True)\n",
    "\n",
    "processor = Wav2Vec2Processor(feature_extractor=feature_extractor, tokenizer=tokenizer)\n",
    "\n",
    "model = Wav2Vec2ForCTC.from_pretrained(\"./wav2vec2-large-xlsr-ger-chris-cut/checkpoint-51000\")"
   ]
  },
  {
   "cell_type": "code",
   "execution_count": null,
   "metadata": {},
   "outputs": [],
   "source": [
    "def map_to_result(batch):\n",
    "    \n",
    "    model.to(\"cuda\")\n",
    "    input_values = processor(\n",
    "          batch[\"speech\"], \n",
    "          sampling_rate=batch[\"sampling_rate\"], \n",
    "          return_tensors=\"pt\"\n",
    "    ).input_values.to(\"cuda\")\n",
    "\n",
    "    with torch.no_grad():\n",
    "        logits = model(input_values).logits\n",
    "\n",
    "    pred_ids = torch.argmax(logits, dim=-1)\n",
    "    batch[\"pred_str\"] = processor.batch_decode(pred_ids)[0]\n",
    "\n",
    "    return batch"
   ]
  },
  {
   "cell_type": "code",
   "execution_count": 1,
   "metadata": {
    "scrolled": true
   },
   "outputs": [],
   "source": [
    "model = kenlm.Model('lm_data/train.arpa')"
   ]
  },
  {
   "cell_type": "code",
   "execution_count": 2,
   "metadata": {},
   "outputs": [
    {
     "name": "stderr",
     "output_type": "stream",
     "text": [
      "Cloning into 'py-ctc-decode'...\n"
     ]
    }
   ],
   "source": [
    "!git clone https://github.com/ynop/py-ctc-decode"
   ]
  },
  {
   "cell_type": "code",
   "execution_count": 3,
   "metadata": {},
   "outputs": [
    {
     "name": "stdout",
     "output_type": "stream",
     "text": [
      "Obtaining file:///D:/ASR/py-ctc-decode\n",
      "Collecting kenlm@ git+ssh://git@github.com/kpu/kenlm@96d303cfb1a0c21b8f060dbad640d7ab301c019a#egg=kenlm\n",
      "  Cloning ssh://****@github.com/kpu/kenlm (to revision 96d303cfb1a0c21b8f060dbad640d7ab301c019a) to c:\\users\\chris\\appdata\\local\\temp\\pip-install-4_fsg1eh\\kenlm_95c70f29c4714cca9cabb068359cf28f\n",
      "Collecting tqdm==4.39.0\n",
      "  Downloading tqdm-4.39.0-py2.py3-none-any.whl (53 kB)\n"
     ]
    },
    {
     "name": "stderr",
     "output_type": "stream",
     "text": [
      "  Running command git clone -q 'ssh://****@github.com/kpu/kenlm' 'C:\\Users\\Chris\\AppData\\Local\\Temp\\pip-install-4_fsg1eh\\kenlm_95c70f29c4714cca9cabb068359cf28f'\n",
      "  Host key verification failed.\n",
      "  fatal: Could not read from remote repository.\n",
      "\n",
      "  Please make sure you have the correct access rights\n",
      "  and the repository exists.\n",
      "WARNING: Discarding git+ssh://****@github.com/kpu/kenlm@96d303cfb1a0c21b8f060dbad640d7ab301c019a#egg=kenlm. Command errored out with exit status 128: git clone -q 'ssh://****@github.com/kpu/kenlm' 'C:\\Users\\Chris\\AppData\\Local\\Temp\\pip-install-4_fsg1eh\\kenlm_95c70f29c4714cca9cabb068359cf28f' Check the logs for full command output.\n",
      "ERROR: Could not find a version that satisfies the requirement kenlm (unavailable) (from ctcdecode) (from versions: 0)\n",
      "ERROR: No matching distribution found for kenlm (unavailable)\n"
     ]
    }
   ],
   "source": [
    "!pip install -e \"D:\\ASR\\py-ctc-decode\""
   ]
  },
  {
   "cell_type": "code",
   "execution_count": null,
   "metadata": {},
   "outputs": [],
   "source": []
  }
 ],
 "metadata": {
  "kernelspec": {
   "display_name": "Python 3",
   "language": "python",
   "name": "python3"
  },
  "language_info": {
   "codemirror_mode": {
    "name": "ipython",
    "version": 3
   },
   "file_extension": ".py",
   "mimetype": "text/x-python",
   "name": "python",
   "nbconvert_exporter": "python",
   "pygments_lexer": "ipython3",
   "version": "3.8.5"
  }
 },
 "nbformat": 4,
 "nbformat_minor": 4
}

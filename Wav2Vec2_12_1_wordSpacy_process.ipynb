{
 "cells": [
  {
   "cell_type": "code",
   "execution_count": null,
   "metadata": {},
   "outputs": [],
   "source": [
    "!pip install -U pip setuptools wheel\n",
    "!pip install -U spacy[cuda112]"
   ]
  },
  {
   "cell_type": "code",
   "execution_count": null,
   "metadata": {},
   "outputs": [],
   "source": [
    "!python -m spacy download de_core_news_sm"
   ]
  },
  {
   "cell_type": "code",
   "execution_count": null,
   "metadata": {},
   "outputs": [],
   "source": [
    "!python -m spacy download en_core_web_trf"
   ]
  },
  {
   "cell_type": "code",
   "execution_count": null,
   "metadata": {},
   "outputs": [],
   "source": [
    "!pip install -U pip setuptools wheel"
   ]
  },
  {
   "cell_type": "code",
   "execution_count": null,
   "metadata": {},
   "outputs": [],
   "source": [
    "!pip install -U spacy"
   ]
  },
  {
   "cell_type": "code",
   "execution_count": null,
   "metadata": {},
   "outputs": [],
   "source": [
    "!python -m spacy download de_dep_news_trf"
   ]
  },
  {
   "cell_type": "code",
   "execution_count": null,
   "metadata": {},
   "outputs": [],
   "source": [
    "!pip install spacy[transformers,cuda112]"
   ]
  },
  {
   "cell_type": "code",
   "execution_count": null,
   "metadata": {},
   "outputs": [],
   "source": [
    "# Test it\n",
    "\n",
    "import spacy\n",
    "\n",
    "spacy.prefer_gpu()"
   ]
  },
  {
   "cell_type": "markdown",
   "metadata": {},
   "source": [
    "# IMPORT"
   ]
  },
  {
   "cell_type": "code",
   "execution_count": 4,
   "metadata": {},
   "outputs": [],
   "source": [
    "import spacy\n",
    "import pickle\n",
    "import numpy as np\n",
    "\n",
    "from tqdm import tqdm\n",
    "from collections import Counter\n",
    "from datetime import datetime\n",
    "\n",
    "#spacy.prefer_gpu()\n",
    "nlp = spacy.load(\"de_dep_news_trf\")\n",
    "nlp.max_length = 17000000"
   ]
  },
  {
   "cell_type": "markdown",
   "metadata": {},
   "source": [
    "# Preprocess Text"
   ]
  },
  {
   "cell_type": "code",
   "execution_count": null,
   "metadata": {},
   "outputs": [],
   "source": [
    "from datasets import load_from_disk, load_dataset\n",
    "\n",
    "common_voice_train = load_dataset(\"common_voice\", \"de\", split=\"train\", cache_dir=\"D:\\Master\\wsl\\data\")\n",
    "common_voice_validation = load_dataset(\"common_voice\", \"de\", split=\"validation\", cache_dir=\"D:\\Master\\wsl\\data\")\n",
    "common_voice_test = load_dataset(\"common_voice\", \"de\", split=\"test\", cache_dir=\"D:\\Master\\wsl\\data\")"
   ]
  },
  {
   "cell_type": "code",
   "execution_count": null,
   "metadata": {},
   "outputs": [],
   "source": [
    "common_voice_train = common_voice_train.remove_columns([\"path\",\"accent\", \"age\", \"client_id\", \"down_votes\", \"gender\", \"locale\", \"segment\", \"up_votes\"])\n",
    "common_voice_validation = common_voice_validation.remove_columns([\"path\",\"accent\", \"age\", \"client_id\", \"down_votes\", \"gender\", \"locale\", \"segment\", \"up_votes\"])\n",
    "common_voice_test = common_voice_test.remove_columns([\"path\",\"accent\", \"age\", \"client_id\", \"down_votes\", \"gender\", \"locale\", \"segment\", \"up_votes\"])"
   ]
  },
  {
   "cell_type": "code",
   "execution_count": null,
   "metadata": {},
   "outputs": [],
   "source": [
    "import re\n",
    "chars_to_keep = '[^A-Za-zäüöß ]+'\n",
    "\n",
    "def remove_special_characters_chris(batch):\n",
    "    batch[\"sentence\"] = re.sub(chars_to_keep, '', batch[\"sentence\"]).lower() + \" \"\n",
    "    return batch"
   ]
  },
  {
   "cell_type": "code",
   "execution_count": null,
   "metadata": {},
   "outputs": [],
   "source": [
    "common_voice_train_text = common_voice_train.map(remove_special_characters_chris)\n",
    "common_voice_validation_text = common_voice_validation.map(remove_special_characters_chris)\n",
    "common_voice_test_text = common_voice_test.map(remove_special_characters_chris)"
   ]
  },
  {
   "cell_type": "code",
   "execution_count": null,
   "metadata": {},
   "outputs": [],
   "source": [
    "common_voice_train_text.save_to_disk(\"\")\n",
    "common_voice_validation_text.save_to_disk(\"\")\n",
    "common_voice_test_text.save_to_disk(\"\")"
   ]
  },
  {
   "cell_type": "markdown",
   "metadata": {},
   "source": [
    "# Load Text Dataset"
   ]
  },
  {
   "cell_type": "code",
   "execution_count": 1,
   "metadata": {},
   "outputs": [],
   "source": [
    "from datasets import load_from_disk, load_dataset\n",
    "\n",
    "train_text_dataset = load_from_disk(\"E:/Master/data/0_text/train_text\")\n",
    "val_text_dataset = load_from_disk(\"E:/Master/data/0_text/val_text\")\n",
    "test_text_dataset = load_from_disk(\"E:/Master/data/0_text/test_text\")"
   ]
  },
  {
   "cell_type": "code",
   "execution_count": null,
   "metadata": {},
   "outputs": [],
   "source": [
    "from datasets import load_from_disk, load_dataset\n",
    "\n",
    "train_text_dataset = load_from_disk(\"/media/chris/TheFlash/Master/data/0_text/train_text\")\n",
    "val_text_dataset = load_from_disk(\"/media/chris/TheFlash/Master/data/0_text/val_text\")\n",
    "test_text_dataset = load_from_disk(\"/media/chris/TheFlash/Master/data/0_text/test_text\")"
   ]
  },
  {
   "cell_type": "markdown",
   "metadata": {},
   "source": [
    "# Process Datasets with spacy"
   ]
  },
  {
   "cell_type": "code",
   "execution_count": null,
   "metadata": {},
   "outputs": [],
   "source": [
    "now = datetime.now()\n",
    "print(\"start process train @ \", now)\n",
    "\n",
    "train_doc_trf = []\n",
    "for i in tqdm(range(train_text_dataset.shape[0])):\n",
    "    train_doc_trf.append(nlp(train_text_dataset[i]['sentence'], disable = ['ner', 'parser']))\n",
    "\n",
    "now = datetime.now()\n",
    "print(\"End process train @ \", now)"
   ]
  },
  {
   "cell_type": "code",
   "execution_count": null,
   "metadata": {},
   "outputs": [],
   "source": [
    "with open('train_doc_trf.pickle', 'wb') as handle:\n",
    "    pickle.dump(train_doc_trf, handle, protocol=pickle.HIGHEST_PROTOCOL)"
   ]
  },
  {
   "cell_type": "code",
   "execution_count": 6,
   "metadata": {},
   "outputs": [
    {
     "name": "stderr",
     "output_type": "stream",
     "text": [
      "  0%|                                                                                | 4/15588 [00:00<06:41, 38.85it/s]"
     ]
    },
    {
     "name": "stdout",
     "output_type": "stream",
     "text": [
      "start process val @  2021-05-29 11:04:33.358617\n"
     ]
    },
    {
     "name": "stderr",
     "output_type": "stream",
     "text": [
      "100%|████████████████████████████████████████████████████████████████████████████| 15588/15588 [07:57<00:00, 32.66it/s]"
     ]
    },
    {
     "name": "stdout",
     "output_type": "stream",
     "text": [
      "End process val @  2021-05-29 11:12:30.688812\n"
     ]
    },
    {
     "name": "stderr",
     "output_type": "stream",
     "text": [
      "\n"
     ]
    }
   ],
   "source": [
    "now = datetime.now()\n",
    "print(\"start process val @ \", now)\n",
    "\n",
    "val_doc_trf = []\n",
    "for i in tqdm(range(val_text_dataset.shape[0])):\n",
    "    val_doc_trf.append(nlp(val_text_dataset[i]['sentence'], disable = ['ner', 'parser']))\n",
    "\n",
    "now = datetime.now()\n",
    "print(\"End process val @ \", now)"
   ]
  },
  {
   "cell_type": "code",
   "execution_count": 8,
   "metadata": {},
   "outputs": [],
   "source": [
    "with open('data_w/val_doc_trf.pickle', 'wb') as handle:\n",
    "    pickle.dump(val_doc_trf, handle, protocol=pickle.HIGHEST_PROTOCOL)"
   ]
  },
  {
   "cell_type": "code",
   "execution_count": 9,
   "metadata": {},
   "outputs": [
    {
     "name": "stdout",
     "output_type": "stream",
     "text": [
      "15588\n"
     ]
    }
   ],
   "source": [
    "print(len(val_doc_trf))"
   ]
  },
  {
   "cell_type": "code",
   "execution_count": 10,
   "metadata": {},
   "outputs": [
    {
     "name": "stderr",
     "output_type": "stream",
     "text": [
      "  0%|                                                                                | 3/15588 [00:00<11:36, 22.39it/s]"
     ]
    },
    {
     "name": "stdout",
     "output_type": "stream",
     "text": [
      "start process test @  2021-05-29 11:23:09.630017\n"
     ]
    },
    {
     "name": "stderr",
     "output_type": "stream",
     "text": [
      "100%|████████████████████████████████████████████████████████████████████████████| 15588/15588 [13:52<00:00, 18.72it/s]"
     ]
    },
    {
     "name": "stdout",
     "output_type": "stream",
     "text": [
      "End process test @  2021-05-29 11:37:02.469228\n"
     ]
    },
    {
     "name": "stderr",
     "output_type": "stream",
     "text": [
      "\n"
     ]
    }
   ],
   "source": [
    "now = datetime.now()\n",
    "print(\"start process test @ \", now)\n",
    "\n",
    "test_doc_trf = []\n",
    "for i in tqdm(range(test_text_dataset.shape[0])):\n",
    "    test_doc_trf.append(nlp(test_text_dataset[i]['sentence'], disable = ['ner', 'parser']))\n",
    "\n",
    "now = datetime.now()\n",
    "print(\"End process test @ \", now)"
   ]
  },
  {
   "cell_type": "code",
   "execution_count": 11,
   "metadata": {},
   "outputs": [],
   "source": [
    "with open('data_w/test_doc_trf.pickle', 'wb') as handle:\n",
    "    pickle.dump(test_doc_trf, handle, protocol=pickle.HIGHEST_PROTOCOL)"
   ]
  },
  {
   "cell_type": "markdown",
   "metadata": {},
   "source": [
    "### Load processed data"
   ]
  },
  {
   "cell_type": "code",
   "execution_count": null,
   "metadata": {},
   "outputs": [],
   "source": [
    "import pickle\n",
    "\n",
    "with open('train_doc_trf.pickle', 'rb') as handle:\n",
    "    train_doc_trf_loaded = pickle.load(handle)\n",
    "    \n",
    "\n",
    "with open('val_doc_trf.pickle', 'rb') as handle:\n",
    "    val_doc_trf_loaded = pickle.load(handle)\n",
    "\n",
    "with open('test_doc_trf.pickle', 'rb') as handle:\n",
    "    test_doc_trf_loaded = pickle.load(handle)"
   ]
  },
  {
   "cell_type": "markdown",
   "metadata": {},
   "source": [
    "## Process Train dataset (text/lemma noun/lemma)"
   ]
  },
  {
   "cell_type": "code",
   "execution_count": null,
   "metadata": {},
   "outputs": [],
   "source": [
    "splits = 8\n",
    "train_tok_text_splits = {}\n",
    "for i in range(splits):\n",
    "    train_tok_text_splits[i] = []\n",
    "    \n",
    "splittet_train_trf = np.array_split(train_doc_trf_loaded, splits)\n",
    "\n",
    "for n, token_list in enumerate(splittet_train_trf):\n",
    "    for i in tqdm(range(len(token_list))):\n",
    "        train_tok_text_splits[n] = train_tok_text_splits[n] + [token.text for token in token_list[i] if(not token.is_stop and not token.is_punct)]\n",
    "        \n",
    "train_tok_text = train_tok_text_splits[0]\n",
    "\n",
    "for i in range(1,splits):\n",
    "    train_tok_text = train_tok_text + train_tok_text_splits[i]\n",
    "\n",
    "with open('train_tok_text.pickle', 'wb') as handle:\n",
    "    pickle.dump(train_tok_text, handle, protocol=pickle.HIGHEST_PROTOCOL)"
   ]
  },
  {
   "cell_type": "code",
   "execution_count": null,
   "metadata": {},
   "outputs": [],
   "source": [
    "splits = 8\n",
    "train_tok_lemma_splits = {}\n",
    "for i in range(splits):\n",
    "    train_tok_lemma_splits[i] = []\n",
    "    \n",
    "splittet_train_trf = np.array_split(train_doc_trf_loaded, splits)\n",
    "\n",
    "for n, token_list in enumerate(splittet_train_trf):\n",
    "    for i in tqdm(range(len(token_list))):\n",
    "        train_tok_lemma_splits[n] = train_tok_lemma_splits[n] + [token.lemma_ for token in token_list[i] if(not token.is_stop and not token.is_punct)]\n",
    "        \n",
    "train_tok_lemma = train_tok_lemma_splits[0]\n",
    "\n",
    "for i in range(1,splits):\n",
    "    train_tok_lemma = train_tok_lemma + train_tok_lemma_splits[i]\n",
    "\n",
    "with open('train_tok_lemma.pickle', 'wb') as handle:\n",
    "    pickle.dump(train_tok_lemma, handle, protocol=pickle.HIGHEST_PROTOCOL)"
   ]
  },
  {
   "cell_type": "code",
   "execution_count": null,
   "metadata": {},
   "outputs": [],
   "source": [
    "splits = 8\n",
    "train_noun_text_splits = {}\n",
    "for i in range(splits):\n",
    "    train_noun_text_splits[i] = []\n",
    "    \n",
    "splittet_train_trf = np.array_split(train_doc_trf_loaded, splits)\n",
    "\n",
    "for n, token_list in enumerate(splittet_train_trf):\n",
    "    for i in tqdm(range(len(token_list))):\n",
    "        train_noun_text_splits[n] = train_noun_text_splits[n] + [token.text for token in token_list[i] \n",
    "                                                               if(not token.is_stop and not token.is_punct and token.pos_ == \"NOUN\")]\n",
    "        \n",
    "train_nouns_text = train_noun_text_splits[0]\n",
    "\n",
    "for i in range(1,splits):\n",
    "    train_nouns_text = train_nouns_text + train_noun_text_splits[i]\n",
    "\n",
    "with open('train_nouns_text.pickle', 'wb') as handle:\n",
    "    pickle.dump(train_nouns_text, handle, protocol=pickle.HIGHEST_PROTOCOL)"
   ]
  },
  {
   "cell_type": "code",
   "execution_count": null,
   "metadata": {},
   "outputs": [],
   "source": [
    "splits = 8\n",
    "train_noun_lemma_splits = {}\n",
    "for i in range(splits):\n",
    "    train_noun_lemma_splits[i] = []\n",
    "    \n",
    "splittet_train_trf = np.array_split(train_doc_trf_loaded, splits)\n",
    "\n",
    "for n, token_list in enumerate(splittet_train_trf):\n",
    "    for i in tqdm(range(len(token_list))):\n",
    "        train_noun_lemma_splits[n] = train_noun_lemma_splits[n] + [token.lemma_ for token in token_list[i] \n",
    "                                                               if(not token.is_stop and not token.is_punct and token.pos_ == \"NOUN\")]\n",
    "        \n",
    "train_nouns_lemma = train_noun_lemma_splits[0]\n",
    "\n",
    "for i in range(1,splits):\n",
    "    train_nouns_lemma = train_nouns_lemma + train_noun_lemma_splits[i]\n",
    "\n",
    "with open('train_nouns_lemma.pickle', 'wb') as handle:\n",
    "    pickle.dump(train_nouns_lemma, handle, protocol=pickle.HIGHEST_PROTOCOL)"
   ]
  },
  {
   "cell_type": "markdown",
   "metadata": {},
   "source": [
    "# Process Datasets with Spacy (old way)"
   ]
  },
  {
   "cell_type": "code",
   "execution_count": null,
   "metadata": {},
   "outputs": [],
   "source": [
    "train_complete_text = \"\"\n",
    "val_complete_text = \"\"\n",
    "test_complete_text = \"\""
   ]
  },
  {
   "cell_type": "code",
   "execution_count": null,
   "metadata": {},
   "outputs": [],
   "source": [
    "print(train_text_dataset.shape[0])\n",
    "print(val_text_dataset.shape[0])\n",
    "print(test_text_dataset.shape[0])"
   ]
  },
  {
   "cell_type": "markdown",
   "metadata": {},
   "source": [
    "## Convert Datasets to String"
   ]
  },
  {
   "cell_type": "code",
   "execution_count": null,
   "metadata": {},
   "outputs": [],
   "source": [
    "from tqdm import tqdm\n",
    "\n",
    "for i in tqdm(range(train_text_dataset.shape[0])):\n",
    "    train_complete_text = train_complete_text + train_text_dataset[i]['sentence']\n",
    "\n",
    "for i in tqdm(range(val_text_dataset.shape[0])):\n",
    "    val_complete_text = val_complete_text + val_text_dataset[i]['sentence']\n",
    "\n",
    "for i in tqdm(range(test_text_dataset.shape[0])):\n",
    "    test_complete_text = test_complete_text + test_text_dataset[i]['sentence']"
   ]
  },
  {
   "cell_type": "markdown",
   "metadata": {},
   "source": [
    "## Process Datasets with Spacy"
   ]
  },
  {
   "cell_type": "code",
   "execution_count": null,
   "metadata": {},
   "outputs": [],
   "source": [
    "from datetime import datetime\n",
    "\n",
    "now = datetime.now()\n",
    "print(\"start process val @ \", now)\n",
    "\n",
    "val_doc = nlp(val_complete_text, disable = ['ner', 'parser'])\n",
    "\n",
    "now = datetime.now()\n",
    "print(\"End process val @ \", now)"
   ]
  },
  {
   "cell_type": "code",
   "execution_count": null,
   "metadata": {},
   "outputs": [],
   "source": [
    "now = datetime.now()\n",
    "print(\"start process test @ \", now)\n",
    "\n",
    "test_doc_trf = nlp(test_complete_text, disable = ['ner', 'parser'])\n",
    "\n",
    "now = datetime.now()\n",
    "print(\"End process test @ \", now)"
   ]
  },
  {
   "cell_type": "code",
   "execution_count": null,
   "metadata": {},
   "outputs": [],
   "source": [
    "# all tokens that arent stop words or punctuations\n",
    "train_all = [token.text\n",
    "         for token in train_doc\n",
    "         if not token.is_punct]\n",
    "\n",
    "# all tokens that arent stop words or punctuations\n",
    "train_words = [token.text\n",
    "         for token in train_doc\n",
    "         if not token.is_stop and not token.is_punct]\n",
    "\n",
    "# noun tokens that arent stop words or punctuations\n",
    "train_nouns = [token.text\n",
    "         for token in train_doc\n",
    "         if (not token.is_stop and\n",
    "             not token.is_punct and\n",
    "             token.pos_ == \"NOUN\")]"
   ]
  },
  {
   "cell_type": "code",
   "execution_count": null,
   "metadata": {},
   "outputs": [],
   "source": [
    "# noun tokens that arent stop words or punctuations\n",
    "train_nouns_lemma = [token.lemma_\n",
    "         for token in train_doc_trf_loaded\n",
    "         if (not token.is_stop and\n",
    "             not token.is_punct and\n",
    "             token.pos_ == \"NOUN\")]"
   ]
  },
  {
   "cell_type": "markdown",
   "metadata": {},
   "source": [
    "# Results check WER (old)"
   ]
  },
  {
   "cell_type": "code",
   "execution_count": null,
   "metadata": {},
   "outputs": [],
   "source": [
    "import torch\n",
    "from transformers import Wav2Vec2ForCTC, Wav2Vec2Processor, Wav2Vec2CTCTokenizer, Wav2Vec2FeatureExtractor\n",
    "\n",
    "tokenizer = Wav2Vec2CTCTokenizer(\"./vocab.json\", unk_token=\"[UNK]\", pad_token=\"[PAD]\", word_delimiter_token=\"|\")\n",
    "feature_extractor = Wav2Vec2FeatureExtractor(feature_size=1, sampling_rate=16000, padding_value=0.0, do_normalize=True, return_attention_mask=True)\n",
    "\n",
    "processor = Wav2Vec2Processor(feature_extractor=feature_extractor, tokenizer=tokenizer)\n",
    "\n",
    "model = Wav2Vec2ForCTC.from_pretrained(\"./wav2vec2-large-xlsr-ger-chris/checkpoint-51000\")"
   ]
  },
  {
   "cell_type": "code",
   "execution_count": null,
   "metadata": {},
   "outputs": [],
   "source": [
    "def map_to_result(batch):\n",
    "    \n",
    "    model.to(\"cuda\")\n",
    "    input_values = processor(\n",
    "          batch[\"speech\"], \n",
    "          sampling_rate=batch[\"sampling_rate\"], \n",
    "          return_tensors=\"pt\"\n",
    "    ).input_values.to(\"cuda\")\n",
    "\n",
    "    with torch.no_grad():\n",
    "        logits = model(input_values).logits\n",
    "\n",
    "    pred_ids = torch.argmax(logits, dim=-1)\n",
    "    batch[\"pred_str\"] = processor.batch_decode(pred_ids)[0]\n",
    "\n",
    "    return batch"
   ]
  },
  {
   "cell_type": "code",
   "execution_count": null,
   "metadata": {},
   "outputs": [],
   "source": [
    "from datasets import load_metric\n",
    "\n",
    "wer_metric = load_metric(\"wer\")"
   ]
  },
  {
   "cell_type": "code",
   "execution_count": null,
   "metadata": {},
   "outputs": [],
   "source": [
    "from datasets import load_from_disk, load_dataset\n",
    "\n",
    "test_sampled = load_from_disk(\"/media/chris/TheFlash/Master/data/test_sampled\")"
   ]
  },
  {
   "cell_type": "code",
   "execution_count": null,
   "metadata": {},
   "outputs": [],
   "source": [
    "results = test_sampled.map(map_to_result)"
   ]
  },
  {
   "cell_type": "code",
   "execution_count": null,
   "metadata": {},
   "outputs": [],
   "source": [
    "print(\"Test WER: {:.3f}\".format(wer_metric.compute(predictions=results[\"pred_str\"], references=results[\"target_text\"])))"
   ]
  },
  {
   "cell_type": "code",
   "execution_count": null,
   "metadata": {},
   "outputs": [],
   "source": [
    "results.save_to_disk(\"results51_test\")"
   ]
  },
  {
   "cell_type": "code",
   "execution_count": null,
   "metadata": {},
   "outputs": [],
   "source": [
    "result_complete_text = \"\"\n",
    "for i in tqdm(range(results.shape[0])):\n",
    "    result_complete_text = result_complete_text + results[i]['pred_str']"
   ]
  },
  {
   "cell_type": "code",
   "execution_count": null,
   "metadata": {},
   "outputs": [],
   "source": [
    "result_doc_trf = nlp(result_complete_text, disable = ['ner', 'parser'])"
   ]
  },
  {
   "cell_type": "code",
   "execution_count": null,
   "metadata": {},
   "outputs": [],
   "source": [
    "result_doc_trf = []\n",
    "for i in tqdm(range(results.shape[0])):\n",
    "    result_doc_trf.append(nlp(results[i]['pred_str'], disable = ['ner', 'parser']))"
   ]
  },
  {
   "cell_type": "code",
   "execution_count": null,
   "metadata": {},
   "outputs": [],
   "source": [
    "with open('result_doc_trf.pickle', 'wb') as handle:\n",
    "    pickle.dump(result_doc_trf, handle, protocol=pickle.HIGHEST_PROTOCOL)"
   ]
  }
 ],
 "metadata": {
  "kernelspec": {
   "display_name": "Python 3",
   "language": "python",
   "name": "python3"
  },
  "language_info": {
   "codemirror_mode": {
    "name": "ipython",
    "version": 3
   },
   "file_extension": ".py",
   "mimetype": "text/x-python",
   "name": "python",
   "nbconvert_exporter": "python",
   "pygments_lexer": "ipython3",
   "version": "3.8.8"
  }
 },
 "nbformat": 4,
 "nbformat_minor": 4
}

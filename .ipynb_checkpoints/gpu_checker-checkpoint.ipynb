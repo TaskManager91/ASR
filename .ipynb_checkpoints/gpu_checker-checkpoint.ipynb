{
 "cells": [
  {
   "cell_type": "code",
   "execution_count": 1,
   "metadata": {},
   "outputs": [],
   "source": [
    "import requests\n",
    "from bs4 import BeautifulSoup"
   ]
  },
  {
   "cell_type": "code",
   "execution_count": 11,
   "metadata": {},
   "outputs": [],
   "source": [
    "url_list = ['https://www.mediamarkt.de/de/category/_nvidia-rtx-3080-ti-796039.html']\n",
    "headers = {'User-Agent': 'Mozilla/5.0 (Windows NT 6.2; WOW64) AppleWebKit/537.36 (KHTML like Gecko) Chrome/44.0.2403.155 Safari/537.36'}\n",
    "\n",
    "page = requests.get(url_list[0], headers=headers)\n",
    "\n",
    "soup = BeautifulSoup(page.content, 'html.parser')"
   ]
  },
  {
   "cell_type": "code",
   "execution_count": 12,
   "metadata": {},
   "outputs": [
    {
     "name": "stdout",
     "output_type": "stream",
     "text": [
      "<!DOCTYPE html>\n",
      "\n",
      "<html lang=\"de\">\n",
      "<head>\n",
      "<title>MediaMarkt</title>\n",
      "<meta content=\"width=device-width, initial-scale=1, maximum-scale=1\" name=\"viewport\"/>\n",
      "<meta content=\"text/html; charset=utf-8\" http-equiv=\"Content-Type\">\n",
      "<link href=\"favicon.png\" rel=\"icon\" type=\"image/x-icon\"/>\n",
      "<style>html{background:#f2f2f2}body{background:#fff;font-family:Arial;font-size:14px;line-height:1.5;margin:0 auto;max-width:775px;padding:3% 5%}h1{font-size:40px;font-weight:300;margin:0;padding:0}img{height:auto;max-width:100%}a{color:#000;text-decoration:underline}.cf:after{clear:both;content:\".\";display:block;height:0;visibility:hidden}.cf{margin-bottom:40px}.cf a{float:right}p{margin-bottom:20px;margin-top:0}span{font-weight:700}@media only screen and (max-width:768px){body{margin:0 auto;padding:3%;width:94%}.cf a{display:block;float:none}.cf a,h1{text-align:center}}</style>\n",
      "<script type=\"text/javascript\">\n",
      "    //<![CDATA[\n",
      "    (function(){\n",
      "      window._cf_chl_opt={\n",
      "        cvId: \"2\",\n",
      "        cType: \"interactive\",\n",
      "        cNounce: \"26869\",\n",
      "        cRay: \"65d2c4b5fffcfae5\",\n",
      "        cHash: \"8495370d2030e67\",\n",
      "        cFPWv: \"g\",\n",
      "        cTTimeMs: \"4000\",\n",
      "        cLt: \"n\",\n",
      "        cRq: {\n",
      "          ru: \"aHR0cHM6Ly93d3cubWVkaWFtYXJrdC5kZS9kZS9jYXRlZ29yeS9fbnZpZGlhLXJ0eC0zMDgwLXRpLTc5NjAzOS5odG1s\",\n",
      "          ra: \"TW96aWxsYS81LjAgKE1hY2ludG9zaDsgSW50ZWwgTWFjIE9TIFggMTBfMTBfMSkgQXBwbGVXZWJLaXQvNTM3LjM2IChLSFRNTCwgbGlrZSBHZWNrbykgQ2hyb21lLzM5LjAuMjE3MS45NSBTYWZhcmkvNTM3LjM2\",\n",
      "          rm: \"R0VU\",\n",
      "          d: \"LhMHV3vnZKJ/Ja1dGxrmtIU92c6sVSJXgV3DJkG9/xTToY3zLdBI7WBiVcQ8kScTUrcp43FLImt+NAZSEwjq0cv7l3O9AnB0VS3BakzuNcx361bEakv13dvC1rxBzMG5qtqBwwG5CI3unWEWohBX1Da3BqsF9UyuVlTkfHn9xAQR0S4t9FSA3ys3NcKyJmJr7c5AB4CGOexZ0QYkr6mivGOi3iPrXAZDcSHyGb1rOlskwgef3Ot5+3dUjY/7kFSpRjdNXMKTpRmKpbhKdPZ3KUDG+RTWJYN5NmSovGfgG1ftDNfQVLjPJ0lOxHmLPpP9flyae+oSuEUOURiX0J16XHY/0RbgemN4jbXbmjrg6Xtoa2vhqbnuiC9xCu0aKOdRVrAUSuqyoYGEXdlUcZbyYfI8DK90PG2UETtvTNXoTlEGPaT3dIaDK04ekobtZFRoXCjfDMEEIMl0hHwKCjHi5o+GLoDYhw29eQQlsZoyXLchZRE7oewKaq7TBxBkZxwFm+q0flMfbYdyfg8aks/iEsDWyvdnmef74WA1TmsVga3zQQmXc3wA9q8NQt3YqESDABjqnsOUZERFEErOVvKhkA99P6SDe8EZFKVddV7hjJRPiHvoasC5gFaJN1LEdeaNlWX31yGJvzis10WGU9qWMB+tVlTQ2Nn7E7TqYRlXvIx0RMRZZblo6LM2alJlPauzasth9+R3UBfCFzPf+LyrRvlIxC8GCJSwt6JQdJn3sEwyI5UBtRuPPm/QPBmJeR7HKhkI4VHRUbA8J6lzD+klXcosAWo/0b7oZyxu5Iwntyzok+czgEoZzngK6JaEYJkjrhDeo8M08CDfTH9gYz8J+B+SdDVgy6jkR8jQ0TSeAbbYR2yF1MLzPPHdOSUt0Yu5JpKrXBMpeNlDdmqFYog7PVPRq4p3+3IUO7EYtG4VsyE=\",\n",
      "          t: \"MTYyMzMyOTg3Ny40NDQwMDA=\",\n",
      "          m: \"cu5gSGPM1cKPWV/TepPRm2C1jVdpe2ZOaLpE+UYhMAE=\",\n",
      "          i1: \"DLKoXgmMUg//c1iKFcO2Cw==\",\n",
      "          i2: \"wcQ/M6pPrrUMGYbY/eDw+Q==\",\n",
      "          zh: \"q1ZR4e29hYz+cTx2o5UYJG1hFifFh0loDJNTfBOG7gU=\",\n",
      "          uh: \"6TWpFOs5yA2kqHBUkRC7Q3BxuZXDS2ZiQqpfVqqMVlI=\",\n",
      "          hh: \"+dgxVyY+fQBum8yrY3Q9pqqEvjydD2WPU3jRaUrPF1o=\",\n",
      "        }\n",
      "      };\n",
      "    }());\n",
      "    //]]>\n",
      "    </script>\n",
      "</meta></head>\n",
      "<body>\n",
      "<div class=\"cf\">\n",
      "<a href=\"index.html\">\n",
      "<img alt=\"logo\" class=\"logo\" src=\"data:image/svg+xml;base64,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\" width=\"200\"/>\n",
      "</a>\n",
      "</div>\n",
      "<p>\n",
      "\t\tLieber Besucher,\n",
      "\t\t</p>\n",
      "<p>\n",
      "           \tDas ging uns leider zu schnell. Um fortzufahren und alle Angebote von Mediamarkt zu sehen, vervollständigen Sie bitte nachfolgendes Captcha.\n",
      "\t\t</p>\n",
      "<form action=\"/de/category/_nvidia-rtx-3080-ti-796039.html?__cf_chl_captcha_tk__=ded4edbae4981da6a8c8fe44ffda30cb62ef4924-1623329877-0-AYjnp9wvUBQZoFz-jCTGaBKwNGRxjbKIpTPVHqIuRypTq9iTIeWkxEaunJxTnu_-ytCXBhZuT3Pk_HPl0WXNeKXB7RTh4JsnbK7qSaywBY-AMPTofX55i5sPG-S61-050ddsfVEcT9gwZQTkVohUcwlpwEWoViSIxltr7D-EL2sKWoCz3-tCkAKkbRYL2azzqgM4WOzKU3Ltbc0txrl3mf7xBU41SM376kQ6Cd60wz5l06kRnIgKZ39m9Xll_D3bKVFb9grI49QqlOoYMy-yrL8Re29S315232LjKWO9AsqKxbDoLHjwM6hvZG-cWtaDuRuUtAZfc_UQXaq_jQaSPr-q2LUfqmmkN78LAYH1Eji74n1t1pdEgVFvF-U_CfTPNbH0godjn6Z9lnBS7rFlAWRFKZNL7AEnn8Gx-uKBMXmLmC8gBkBbt3sNieeXVlAbNBsayOxmlNLw4-qD-YQdOOS0sAWt3fxepDx8YbOO7waag2VSo9nRQQ0OOAHASpmzM77Q0QxXxDKhYVfRDRwc_OKUKKHXloNuis2-K0hxlz-ytMON36KfywVpZHECf03d6aa5yvTOEuAuXh4QT4R30yly0At0PHQ1UFYNdBT-n-nNqHtUniUXFrmySHIzK3JcG77_oCrF8zRq2FPBkF-hdj5uhISEAUETVvtDbqypBzwD--ThTuYgqc-9-EFhKhRyNg\" class=\"challenge-form interactive-form\" enctype=\"application/x-www-form-urlencoded\" id=\"challenge-form\" method=\"POST\">\n",
      "<div id=\"cf-please-wait\">\n",
      "<div id=\"spinner\">\n",
      "<div id=\"cf-bubbles\">\n",
      "<div class=\"bubbles\"></div>\n",
      "<div class=\"bubbles\"></div>\n",
      "<div class=\"bubbles\"></div>\n",
      "</div>\n",
      "</div>\n",
      "<p data-translate=\"please_wait\" id=\"cf-spinner-please-wait\">Please stand by, while we are checking your browser...</p>\n",
      "<p data-translate=\"redirecting\" id=\"cf-spinner-redirecting\" style=\"display:none\">Redirecting...</p>\n",
      "</div>\n",
      "<input name=\"r\" type=\"hidden\" value=\"1e7c7dda9a6e70e91e9843daad8df74c3d92e787-1623329877-0-AWQoyGDHWaUgPGiW92q1cs1YnZCKKzPj5bdwW2mkYdhlg6RLR5WNBq3vuMhtZgqYAxyEJ/82nw+qHIivFEhLLZjuPBLUZK8DzSmAEHjsgA+/6bm2UKHSTrSGmi/+bdYtMFhiRLymrggyHknl+yJXTKDU6ydF9Mo3p9EgfaVP+EZeZWQMyEWkRkJGxP9GRwgYEQWybnbfIv9kA5meRqEwXW1V2KnJiyqNC4ejWDXdJhua1hA2xKCSiwt6R5dBa+8uz6La5F2vE9fwGgr4p0wyRurPtUqzW01gWXwVa3cN5YxjCzguwij5aGOJYz85s1moA6QWkRepwl+1GD5KzuNH33zT3uw+gmbIZ/7rADwL4tgfsw6HK0TPwAEyj8zeiBnV7o2qz2UjerUUz7wn/6SE5IXb1LtoFbuIPKZ9UuhtEz9XpZd+fj3vg2pWYuFR4zxV8sLrRNQf8DPo/u0lw133nd28VkAImetV/2JEUL7Ph3trQ2GMQUwvKcKPARY9ljzVITyBkC4iPDfKcBnoyKyAU4RHlwJ88i4BvgPqtjkGvHaob1bjjidImz3EKgWAiNNAMFzuAyB69H92mw6UKjhlwpZ//H6RUGLOqsLi18vA94roow340B8/Rs7JA+9Z4d+IC5m8US+F/xt2ZYlL/tCADzoE4/eANepy80NE7l6o2i0+G812SnFncHTQFav9DjWDr3FK760wYEjqxC1ksuMHI4/RibE+UnzsUwU2thqKx+9nThlMGibkHDTpB3urGAh49ciMPb5DrLorXOCFTYK5SJxkvBYWa4xzPvpIzgeLfYrFO6Vgcc/oGZK6Pl8ysH+TS/z1FoqMM3EUUn/uSoG1OuThBqk1yolhr2sQma8x5dCHQ/M0l6MGhwltvg0BEQzXl+OPOLF9N36uk8vKQPQSmGgDblg/IqOPX9O8b3HLOZZmvDPAgEo5UeaBG8+9s2FJ5JBpNOTX+BkEdIsL4M6OU2sLvDzbNOeZZZFG9EIwW93FB14CkICFDe6PB/rzoOxqtfiZQn+w6HvsoB3F+6WRmsZ/VQhl01ttwkq2eE6fbyBnD3yp8V4Mx3LJaTXmghA7cL0uFV+S2IS6VAxo8630EW0vXC5SSs7skJlRhHNZzrWl4vnCi9ZRJiZeOoZPc1PmkMEJknXAAvbXOeYSQ0S63QuktXlnfLxDRmDrALk0Uj/qqKqQ3bhe0C+TLIViBaOBvQH87HpXf5vzB7r7KfDbqqpgcywjHuKVQBXUTDKwxhm1iGmOclaGJgbTRO30ga920KlrGm5gJQLvSv5iUhE+sPOHVFQjvJjPMsnnCb9+/ZCUiwVbBDRYIKGqRV4KflPeVsd7odLb+9OWfq/R0TZSw5/kSvnE0rnXd+fcPQJ0TQvk7RrF1zZHuJBMUEfhjPD9v7xoD0mS1YEcqL4FOkDeWdnjgXC2Z1n+5fehg4D/Ib2bIUgi+AA0FkzC1Pz9n2GBqy8trVHzc0890FN/XXsiEPaAT0cPbEM8Czar70PMbIouTLcURR65+rKpWu45SigAczPGo+OyedH9D4Ei0YslKKHva3QKXgsLtZI8rb/u2cuXTF2uK6fbKb7SqzNz2Als3z570JNicbbjOQILV9B+njzVWYtYXhNY0zKpi6CPS8DNOyXct3MfkEUZTmENFouw36TTUyJvwqQXER2lWPr1ZN3czHkrHxRQMvR0oI+TOqfEZzV0xpaA6cGUWLFtEK/zEx5X8zAUE+tgHIjIH1Us/3tnRQwopBtvwC7MxsOuMT6Cp3r8yVwn80jAq7isEYMrNOZhncRT8tCOIgqF1/XKKqwPbAkfujkqIslW19dlaUksXZ8eU+taRBZrsh/QP+Ae5LPSTroCqdgoPETVhfIntXVsv34/yyt3wK5n/9cHN83P910iXgnPICbB423x6dVVPQ==\"/>\n",
      "<input name=\"cf_captcha_kind\" type=\"hidden\" value=\"h\"/>\n",
      "<input name=\"vc\" type=\"hidden\" value=\"a28f0f3f9230352cc45305288f1a146f\"/>\n",
      "<noscript class=\"cf-captcha-info\" id=\"cf-captcha-bookmark\">\n",
      "<h1 data-translate=\"turn_on_js\" style=\"color:#bd2426;\">Please turn JavaScript on and reload the page.</h1>\n",
      "</noscript>\n",
      "<div class=\"cookie-warning\" data-translate=\"turn_on_cookies\" id=\"no-cookie-warning\" style=\"display:none\">\n",
      "<p data-translate=\"turn_on_cookies\" style=\"color:#bd2426;\">Please enable Cookies and reload the page.</p>\n",
      "</div>\n",
      "<script type=\"text/javascript\">\n",
      "  //<![CDATA[\n",
      "    var a = function() {try{return !!window.addEventListener} catch(e) {return !1} },\n",
      "      b = function(b, c) {a() ? document.addEventListener(\"DOMContentLoaded\", b, c) : document.attachEvent(\"onreadystatechange\", b)};\n",
      "      b(function(){\n",
      "        var cookiesEnabled=(navigator.cookieEnabled)? true : false;\n",
      "        if(!cookiesEnabled){\n",
      "          var q = document.getElementById('no-cookie-warning');q.style.display = 'block';\n",
      "        }\n",
      "      });\n",
      "  //]]>\n",
      "  </script>\n",
      "<div id=\"trk_captcha_js\" style=\"background-image:url('/cdn-cgi/images/trace/captcha/nojs/h/transparent.gif?ray=65d2c4b5fffcfae5')\"></div>\n",
      "</form>\n",
      "<script type=\"text/javascript\">\n",
      "    //<![CDATA[\n",
      "    (function(){\n",
      "        var isIE = /(MSIE|Trident\\/|Edge\\/)/i.test(window.navigator.userAgent);\n",
      "        var trkjs = isIE ? new Image() : document.createElement('img');\n",
      "        trkjs.setAttribute(\"src\", \"/cdn-cgi/images/trace/captcha/js/transparent.gif?ray=65d2c4b5fffcfae5\");\n",
      "        trkjs.id = \"trk_captcha_js\";\n",
      "        trkjs.setAttribute(\"alt\", \"\");\n",
      "        document.body.appendChild(trkjs);\n",
      "        var cpo=document.createElement('script');\n",
      "        cpo.type='text/javascript';\n",
      "        cpo.src=\"/cdn-cgi/challenge-platform/h/g/orchestrate/captcha/v1?ray=65d2c4b5fffcfae5\";\n",
      "        document.getElementsByTagName('head')[0].appendChild(cpo);\n",
      "    }());\n",
      "    //]]>\n",
      "    </script>\n",
      "</body>\n",
      "</html>\n"
     ]
    }
   ],
   "source": [
    "print(soup)"
   ]
  },
  {
   "cell_type": "code",
   "execution_count": 8,
   "metadata": {},
   "outputs": [
    {
     "name": "stdout",
     "output_type": "stream",
     "text": [
      "[]\n"
     ]
    }
   ],
   "source": [
    "print(python_jobs)"
   ]
  },
  {
   "cell_type": "code",
   "execution_count": null,
   "metadata": {},
   "outputs": [],
   "source": []
  }
 ],
 "metadata": {
  "kernelspec": {
   "display_name": "Python 3",
   "language": "python",
   "name": "python3"
  },
  "language_info": {
   "codemirror_mode": {
    "name": "ipython",
    "version": 3
   },
   "file_extension": ".py",
   "mimetype": "text/x-python",
   "name": "python",
   "nbconvert_exporter": "python",
   "pygments_lexer": "ipython3",
   "version": "3.8.5"
  }
 },
 "nbformat": 4,
 "nbformat_minor": 4
}

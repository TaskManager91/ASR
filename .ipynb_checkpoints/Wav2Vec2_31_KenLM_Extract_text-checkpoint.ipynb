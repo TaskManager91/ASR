{
 "cells": [
  {
   "cell_type": "code",
   "execution_count": 1,
   "metadata": {},
   "outputs": [],
   "source": [
    "import spacy\n",
    "import pickle\n",
    "import numpy as np\n",
    "\n",
    "from datasets import load_from_disk, load_dataset\n",
    "\n",
    "from tqdm import tqdm\n",
    "from collections import Counter\n",
    "from datetime import datetime"
   ]
  },
  {
   "cell_type": "code",
   "execution_count": 2,
   "metadata": {},
   "outputs": [],
   "source": [
    "train_text_dataset = load_from_disk(\"E:/Master/data/0_text/train_text\")\n",
    "test_text_dataset = load_from_disk(\"E:/Master/data/0_text/test_text\")\n",
    "val_text_dataset = load_from_disk(\"E:/Master/data/0_text/val_text\")"
   ]
  },
  {
   "cell_type": "code",
   "execution_count": 3,
   "metadata": {},
   "outputs": [
    {
     "name": "stderr",
     "output_type": "stream",
     "text": [
      "100%|███████████████████████████████████████████████████████████████████████| 246525/246525 [00:07<00:00, 32086.95it/s]\n",
      "100%|█████████████████████████████████████████████████████████████████████████| 15588/15588 [00:00<00:00, 32271.12it/s]\n",
      "100%|█████████████████████████████████████████████████████████████████████████| 15588/15588 [00:00<00:00, 31745.52it/s]\n"
     ]
    }
   ],
   "source": [
    "train_file = open(\"data_w/train.txt\", \"w\")\n",
    "\n",
    "for i in tqdm(range(train_text_dataset.shape[0])):\n",
    "    train_file.write(train_text_dataset[i]['sentence'] +  \"\\n\")\n",
    "    \n",
    "train_file.close()\n",
    "\n",
    "test_file = open(\"data_w/test.txt\", \"w\")\n",
    "\n",
    "for i in tqdm(range(test_text_dataset.shape[0])):\n",
    "    test_file.write(test_text_dataset[i]['sentence'] +  \"\\n\")\n",
    "    \n",
    "test_file.close()\n",
    "\n",
    "val_file = open(\"data_w/val.txt\", \"w\")\n",
    "\n",
    "for i in tqdm(range(val_text_dataset.shape[0])):\n",
    "    val_file.write(val_text_dataset[i]['sentence'] +  \"\\n\")\n",
    "    \n",
    "val_file.close()"
   ]
  },
  {
   "cell_type": "code",
   "execution_count": null,
   "metadata": {},
   "outputs": [],
   "source": [
    "# for word transformer LM\n",
    "python \"fairseq_cli/preprocess.py\" --only-source \\\n",
    "--trainpref \"ASR_data/train.txt\" \\\n",
    "--validpref \"ASR_data/test.txt\" \\\n",
    "--testpref \"ASR_data/val.txt\" \\\n",
    "--destdir \"ASR_data/fairseq_word_data/\" \\\n",
    "--thresholdsrc 10 \\\n",
    "--workers 16"
   ]
  }
 ],
 "metadata": {
  "kernelspec": {
   "display_name": "Python 3",
   "language": "python",
   "name": "python3"
  },
  "language_info": {
   "codemirror_mode": {
    "name": "ipython",
    "version": 3
   },
   "file_extension": ".py",
   "mimetype": "text/x-python",
   "name": "python",
   "nbconvert_exporter": "python",
   "pygments_lexer": "ipython3",
   "version": "3.8.5"
  }
 },
 "nbformat": 4,
 "nbformat_minor": 5
}

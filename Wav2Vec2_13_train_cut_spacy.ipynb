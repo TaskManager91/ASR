{
 "cells": [
  {
   "cell_type": "markdown",
   "id": "837988e1",
   "metadata": {},
   "source": [
    "# Load Spacy"
   ]
  },
  {
   "cell_type": "code",
   "execution_count": 1,
   "id": "e7f17759",
   "metadata": {},
   "outputs": [],
   "source": [
    "import spacy\n",
    "import pickle\n",
    "import numpy as np\n",
    "from tqdm import tqdm\n",
    "from collections import Counter\n",
    "\n",
    "#spacy.prefer_gpu()\n",
    "nlp = spacy.load(\"de_dep_news_trf\")\n",
    "nlp.max_length = 17000000"
   ]
  },
  {
   "cell_type": "markdown",
   "id": "0f4cfafc",
   "metadata": {},
   "source": [
    "# Load pre-processed Datasets"
   ]
  },
  {
   "cell_type": "code",
   "execution_count": 3,
   "id": "869bb91a",
   "metadata": {},
   "outputs": [],
   "source": [
    "with open('data/train_doc_trf.pickle', 'rb') as handle:\n",
    "    train_doc_trf_loaded = pickle.load(handle)   "
   ]
  },
  {
   "cell_type": "code",
   "execution_count": 4,
   "id": "c90cc777",
   "metadata": {},
   "outputs": [],
   "source": [
    "with open('data/val_doc_trf.pickle', 'rb') as handle:\n",
    "     val_doc_trf_loaded = pickle.load(handle) "
   ]
  },
  {
   "cell_type": "code",
   "execution_count": 5,
   "id": "eb449425",
   "metadata": {},
   "outputs": [],
   "source": [
    "with open('data/test_doc_trf.pickle', 'rb') as handle:\n",
    "    test_doc_trf_loaded = pickle.load(handle)"
   ]
  },
  {
   "cell_type": "code",
   "execution_count": 8,
   "id": "e5632065",
   "metadata": {},
   "outputs": [
    {
     "name": "stdout",
     "output_type": "stream",
     "text": [
      "Train:  246525\n",
      "Val:    15588\n",
      "Test:   15588\n"
     ]
    }
   ],
   "source": [
    "print(\"Train: \", len(train_doc_trf_loaded))\n",
    "print(\"Val:   \", len(val_doc_trf_loaded))\n",
    "print(\"Test:  \", len(test_doc_trf_loaded))"
   ]
  },
  {
   "cell_type": "markdown",
   "id": "34c01d9a",
   "metadata": {},
   "source": [
    "## Load tokenized Datasets"
   ]
  },
  {
   "cell_type": "code",
   "execution_count": 9,
   "id": "30560467",
   "metadata": {},
   "outputs": [],
   "source": [
    "# TRAIN\n",
    "\n",
    "with open('data/train_tok_text.pickle', 'rb') as handle:\n",
    "    train_tok_text = pickle.load(handle)\n",
    "    \n",
    "with open('data/train_tok_lemma.pickle', 'rb') as handle:\n",
    "    train_tok_lemma = pickle.load(handle)\n",
    "\n",
    "with open('data/train_nouns_text.pickle', 'rb') as handle:\n",
    "    train_nouns_text = pickle.load(handle)\n",
    "\n",
    "with open('data/train_nouns_lemma.pickle', 'rb') as handle:\n",
    "    train_nouns_lemma = pickle.load(handle)"
   ]
  },
  {
   "cell_type": "markdown",
   "id": "352f32f4",
   "metadata": {},
   "source": [
    "# Analyze train Data"
   ]
  },
  {
   "cell_type": "code",
   "execution_count": 10,
   "id": "9c7287ca",
   "metadata": {},
   "outputs": [
    {
     "name": "stdout",
     "output_type": "stream",
     "text": [
      "train words:  1138469\n",
      "train words dict:  167707\n"
     ]
    }
   ],
   "source": [
    "print(\"train words: \", len(train_tok_text))\n",
    "train_words_freq = Counter(train_tok_text)\n",
    "print(\"train words dict: \", len(train_words_freq))"
   ]
  },
  {
   "cell_type": "code",
   "execution_count": 17,
   "id": "fc1e2b18",
   "metadata": {},
   "outputs": [
    {
     "name": "stdout",
     "output_type": "stream",
     "text": [
      "Number of rare words 1 :  91121\n",
      "Number of rare words 2 :  27144\n",
      "Number of rare words 3 :  12429\n",
      "Number of rare words 4 :  7111\n",
      "Number of rare words 5 :  4604\n",
      "Number of rare words 6 :  3234\n",
      "Number of rare words 7 :  2433\n",
      "Number of rare words 8 :  1914\n",
      "Number of rare words 9 :  1544\n",
      "Number of rare words 10 :  1284\n"
     ]
    }
   ],
   "source": [
    "train_words_freq_keys = train_words_freq.keys()\n",
    "\n",
    "train_rare_words = {}\n",
    "\n",
    "for i in range(1,11):\n",
    "    train_rare_words[i] = []\n",
    "    for word in train_words_freq_keys:\n",
    "        \n",
    "        if train_words_freq[word] == i:\n",
    "            train_rare_words[i].append(word)\n",
    "        \n",
    "    print(\"Number of rare words \" + str(i) + \" : \", len(train_rare_words[i]))"
   ]
  },
  {
   "cell_type": "code",
   "execution_count": 18,
   "id": "1a4cd97d",
   "metadata": {},
   "outputs": [],
   "source": [
    "pickle.dump(train_rare_words, open(\"data/train_rare_words.p\", \"wb\"))"
   ]
  },
  {
   "cell_type": "code",
   "execution_count": null,
   "id": "cc30950b",
   "metadata": {},
   "outputs": [],
   "source": [
    "train_rare_words = pickle.load(open(\"data/train_rare_words.p\", \"rb\"))"
   ]
  },
  {
   "cell_type": "markdown",
   "id": "e62fe7d9",
   "metadata": {},
   "source": [
    "# Analyse Test Data"
   ]
  },
  {
   "cell_type": "code",
   "execution_count": 12,
   "id": "74aed55c",
   "metadata": {},
   "outputs": [
    {
     "name": "stderr",
     "output_type": "stream",
     "text": [
      "100%|██████████| 15588/15588 [00:03<00:00, 4367.13it/s]\n"
     ]
    }
   ],
   "source": [
    "test_tok_text = []\n",
    "for i in tqdm(range(len(test_doc_trf_loaded))):\n",
    "    test_tok_text = test_tok_text + [token.text for token in test_doc_trf_loaded[i] if(not token.is_stop and not token.is_punct)]"
   ]
  },
  {
   "cell_type": "code",
   "execution_count": 13,
   "id": "56c22c6a",
   "metadata": {},
   "outputs": [
    {
     "name": "stdout",
     "output_type": "stream",
     "text": [
      "Test words:  67545\n",
      "Test words dict:  29553\n"
     ]
    }
   ],
   "source": [
    "print(\"Test words: \", len(test_tok_text))\n",
    "test_words_freq = Counter(test_tok_text)\n",
    "print(\"Test words dict: \", len(test_words_freq))"
   ]
  },
  {
   "cell_type": "code",
   "execution_count": 19,
   "id": "291450fe",
   "metadata": {},
   "outputs": [
    {
     "name": "stdout",
     "output_type": "stream",
     "text": [
      "Test only words:  5810\n"
     ]
    }
   ],
   "source": [
    "test_words_freq_keys = test_words_freq.keys()\n",
    "\n",
    "test_only_words = []\n",
    "\n",
    "for word in test_words_freq_keys:\n",
    "    if train_words_freq[word] == 0:\n",
    "        test_only_words.append(word)\n",
    "\n",
    "print(\"Test only words: \", len(test_only_words))"
   ]
  },
  {
   "cell_type": "code",
   "execution_count": 20,
   "id": "0f749b5b",
   "metadata": {},
   "outputs": [
    {
     "name": "stdout",
     "output_type": "stream",
     "text": [
      "Number of words 1 :  3235\n",
      "Number of words 2 :  2239\n",
      "Number of words 3 :  1538\n",
      "Number of words 4 :  1280\n",
      "Number of words 5 :  1063\n",
      "Number of words 6 :  912\n",
      "Number of words 7 :  766\n",
      "Number of words 8 :  647\n",
      "Number of words 9 :  638\n",
      "Number of words 10 :  549\n"
     ]
    }
   ],
   "source": [
    "test_train_set = {}\n",
    "\n",
    "for i in range(1,11):\n",
    "    test_train_set[i] = []\n",
    "    for word in train_rare_words[i]:\n",
    "        if test_words_freq[word] >= 1:\n",
    "            test_train_set[i].append(word)\n",
    "        \n",
    "    print(\"Number of words \" + str(i) + \" : \", len(test_train_set[i]))"
   ]
  },
  {
   "cell_type": "code",
   "execution_count": 21,
   "id": "5f41aab0",
   "metadata": {},
   "outputs": [],
   "source": [
    "pickle.dump(train_rare_words, open(\"data/test_train_set.p\", \"wb\"))"
   ]
  },
  {
   "cell_type": "code",
   "execution_count": 33,
   "id": "b95b7835",
   "metadata": {},
   "outputs": [],
   "source": [
    "index_test_train = {}\n",
    "\n",
    "for j in range(1,11):\n",
    "    index_test_train[j] = {}\n",
    "    for word in test_train_set[j]:\n",
    "        index_test_train[j][word] = []"
   ]
  },
  {
   "cell_type": "code",
   "execution_count": 34,
   "id": "56f30368",
   "metadata": {},
   "outputs": [
    {
     "name": "stderr",
     "output_type": "stream",
     "text": [
      "100%|██████████| 246525/246525 [05:53<00:00, 697.71it/s]\n"
     ]
    }
   ],
   "source": [
    "for i in tqdm(range(len(train_doc_trf_loaded))):\n",
    "    word_tokens = [token.text for token in train_doc_trf_loaded[i] if(not token.is_stop and not token.is_punct)]\n",
    "    for j in range(1,11):\n",
    "        for word in test_train_set[j]:\n",
    "            if word in word_tokens:\n",
    "                index_test_train[j][word].append(i)"
   ]
  },
  {
   "cell_type": "code",
   "execution_count": 41,
   "id": "fffe0fa9",
   "metadata": {},
   "outputs": [],
   "source": [
    "pickle.dump(train_rare_words, open(\"data/index_test_train.p\", \"wb\"))"
   ]
  },
  {
   "cell_type": "code",
   "execution_count": 40,
   "id": "926618da",
   "metadata": {},
   "outputs": [
    {
     "name": "stdout",
     "output_type": "stream",
     "text": [
      "549\n"
     ]
    }
   ],
   "source": [
    "print(len(index_test_train[10]))"
   ]
  },
  {
   "cell_type": "code",
   "execution_count": null,
   "id": "5ffcacfd",
   "metadata": {},
   "outputs": [],
   "source": []
  }
 ],
 "metadata": {
  "kernelspec": {
   "display_name": "Python 3",
   "language": "python",
   "name": "python3"
  },
  "language_info": {
   "codemirror_mode": {
    "name": "ipython",
    "version": 3
   },
   "file_extension": ".py",
   "mimetype": "text/x-python",
   "name": "python",
   "nbconvert_exporter": "python",
   "pygments_lexer": "ipython3",
   "version": "3.8.8"
  }
 },
 "nbformat": 4,
 "nbformat_minor": 5
}

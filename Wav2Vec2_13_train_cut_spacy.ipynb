{
 "cells": [
  {
   "cell_type": "markdown",
   "id": "af68bc99",
   "metadata": {},
   "source": [
    "# Load Spacy"
   ]
  },
  {
   "cell_type": "code",
   "execution_count": 2,
   "id": "3b949d7f",
   "metadata": {},
   "outputs": [],
   "source": [
    "import spacy\n",
    "import pickle\n",
    "import numpy as np\n",
    "from tqdm import tqdm\n",
    "from collections import Counter\n",
    "\n",
    "#spacy.prefer_gpu()\n",
    "nlp = spacy.load(\"de_dep_news_trf\")\n",
    "nlp.max_length = 17000000"
   ]
  },
  {
   "cell_type": "markdown",
   "id": "32cc6b62",
   "metadata": {},
   "source": [
    "# Load pre-processed Datasets"
   ]
  },
  {
   "cell_type": "code",
   "execution_count": 3,
   "id": "a8f988c2",
   "metadata": {},
   "outputs": [],
   "source": [
    "train_doc_trf_loaded = pickle.load(open(\"data/train_doc_trf.p\", \"rb\"))"
   ]
  },
  {
   "cell_type": "code",
   "execution_count": 6,
   "id": "affe168e",
   "metadata": {},
   "outputs": [],
   "source": [
    "val_doc_trf_loaded = pickle.load(open(\"data/val_doc_trf.pickle\", \"rb\"))\n",
    "test_doc_trf_loaded = pickle.load(open(\"data/test_doc_trf.pickle\", \"rb\"))"
   ]
  },
  {
   "cell_type": "code",
   "execution_count": 7,
   "id": "c1f64796",
   "metadata": {},
   "outputs": [
    {
     "name": "stdout",
     "output_type": "stream",
     "text": [
      "Train:  246525\n",
      "Val:    15588\n",
      "Test:   15588\n"
     ]
    }
   ],
   "source": [
    "print(\"Train: \", len(train_doc_trf_loaded))\n",
    "print(\"Val:   \", len(val_doc_trf_loaded))\n",
    "print(\"Test:  \", len(test_doc_trf_loaded))"
   ]
  },
  {
   "cell_type": "markdown",
   "id": "7180f375",
   "metadata": {},
   "source": [
    "## Load tokenized Datasets"
   ]
  },
  {
   "cell_type": "code",
   "execution_count": 8,
   "id": "37708b8d",
   "metadata": {},
   "outputs": [],
   "source": [
    "# TRAIN\n",
    "\n",
    "train_tok_text = pickle.load(open(\"data/train_tok_text.p\", \"rb\"))\n",
    "train_tok_lemma = pickle.load(open(\"data/train_tok_lemma.p\", \"rb\"))\n",
    "train_nouns_text = pickle.load(open(\"data/train_nouns_text.p\", \"rb\"))\n",
    "train_nouns_lemma = pickle.load(open(\"data/train_nouns_lemma.p\", \"rb\"))"
   ]
  },
  {
   "cell_type": "markdown",
   "id": "43df0d4a",
   "metadata": {},
   "source": [
    "# Analyze train Data"
   ]
  },
  {
   "cell_type": "code",
   "execution_count": 9,
   "id": "949dc217",
   "metadata": {},
   "outputs": [
    {
     "name": "stdout",
     "output_type": "stream",
     "text": [
      "train words:  1138469\n",
      "train words dict:  167707\n"
     ]
    }
   ],
   "source": [
    "print(\"train words: \", len(train_tok_text))\n",
    "train_words_freq = Counter(train_tok_text)\n",
    "print(\"train words dict: \", len(train_words_freq))"
   ]
  },
  {
   "cell_type": "code",
   "execution_count": 10,
   "id": "af43edc0",
   "metadata": {},
   "outputs": [
    {
     "name": "stdout",
     "output_type": "stream",
     "text": [
      "Number of rare words 1 :  91121\n",
      "Number of rare words 2 :  27144\n",
      "Number of rare words 3 :  12429\n",
      "Number of rare words 4 :  7111\n",
      "Number of rare words 5 :  4604\n",
      "Number of rare words 6 :  3234\n",
      "Number of rare words 7 :  2433\n",
      "Number of rare words 8 :  1914\n",
      "Number of rare words 9 :  1544\n",
      "Number of rare words 10 :  1284\n"
     ]
    }
   ],
   "source": [
    "train_words_freq_keys = train_words_freq.keys()\n",
    "\n",
    "train_rare_words = {}\n",
    "\n",
    "for i in range(1,11):\n",
    "    train_rare_words[i] = []\n",
    "    for word in train_words_freq_keys:\n",
    "        \n",
    "        if train_words_freq[word] == i:\n",
    "            train_rare_words[i].append(word)\n",
    "        \n",
    "    print(\"Number of rare words \" + str(i) + \" : \", len(train_rare_words[i]))"
   ]
  },
  {
   "cell_type": "code",
   "execution_count": 11,
   "id": "9753c9e3",
   "metadata": {},
   "outputs": [],
   "source": [
    "pickle.dump(train_rare_words, open(\"data/train_rare_words.p\", \"wb\"))"
   ]
  },
  {
   "cell_type": "code",
   "execution_count": null,
   "id": "f983290a",
   "metadata": {},
   "outputs": [],
   "source": [
    "train_rare_words = pickle.load(open(\"data/train_rare_words.p\", \"rb\"))"
   ]
  },
  {
   "cell_type": "markdown",
   "id": "dffbdf26",
   "metadata": {},
   "source": [
    "# Analyse Test Data"
   ]
  },
  {
   "cell_type": "code",
   "execution_count": 12,
   "id": "32ea4285",
   "metadata": {},
   "outputs": [
    {
     "name": "stderr",
     "output_type": "stream",
     "text": [
      "100%|██████████| 15588/15588 [00:04<00:00, 3574.56it/s]\n"
     ]
    }
   ],
   "source": [
    "test_tok_text = []\n",
    "for i in tqdm(range(len(test_doc_trf_loaded))):\n",
    "    test_tok_text = test_tok_text + [token.text for token in test_doc_trf_loaded[i] if(not token.is_stop and not token.is_punct)]"
   ]
  },
  {
   "cell_type": "code",
   "execution_count": 13,
   "id": "9677dd49",
   "metadata": {},
   "outputs": [
    {
     "name": "stdout",
     "output_type": "stream",
     "text": [
      "Test words:  67545\n",
      "Test words dict:  29553\n"
     ]
    }
   ],
   "source": [
    "print(\"Test words: \", len(test_tok_text))\n",
    "test_words_freq = Counter(test_tok_text)\n",
    "print(\"Test words dict: \", len(test_words_freq))"
   ]
  },
  {
   "cell_type": "code",
   "execution_count": 14,
   "id": "7ecf6bfb",
   "metadata": {},
   "outputs": [
    {
     "name": "stdout",
     "output_type": "stream",
     "text": [
      "Test only words:  5810\n"
     ]
    }
   ],
   "source": [
    "test_words_freq_keys = test_words_freq.keys()\n",
    "\n",
    "test_only_words = []\n",
    "\n",
    "for word in test_words_freq_keys:\n",
    "    if train_words_freq[word] == 0:\n",
    "        test_only_words.append(word)\n",
    "\n",
    "print(\"Test only words: \", len(test_only_words))"
   ]
  },
  {
   "cell_type": "code",
   "execution_count": 15,
   "id": "9cebcbc7",
   "metadata": {},
   "outputs": [
    {
     "name": "stdout",
     "output_type": "stream",
     "text": [
      "Number of words 1 :  3235\n",
      "Number of words 2 :  2239\n",
      "Number of words 3 :  1538\n",
      "Number of words 4 :  1280\n",
      "Number of words 5 :  1063\n",
      "Number of words 6 :  912\n",
      "Number of words 7 :  766\n",
      "Number of words 8 :  647\n",
      "Number of words 9 :  638\n",
      "Number of words 10 :  549\n"
     ]
    }
   ],
   "source": [
    "test_train_set = {}\n",
    "\n",
    "for i in range(1,11):\n",
    "    test_train_set[i] = []\n",
    "    for word in train_rare_words[i]:\n",
    "        if test_words_freq[word] >= 1:\n",
    "            test_train_set[i].append(word)\n",
    "        \n",
    "    print(\"Number of words \" + str(i) + \" : \", len(test_train_set[i]))"
   ]
  },
  {
   "cell_type": "code",
   "execution_count": 16,
   "id": "7f425301",
   "metadata": {},
   "outputs": [],
   "source": [
    "pickle.dump(test_train_set, open(\"data/test_train_set.p\", \"wb\"))"
   ]
  },
  {
   "cell_type": "code",
   "execution_count": 10,
   "id": "919f180e",
   "metadata": {},
   "outputs": [],
   "source": [
    "test_train_set = pickle.load(open(\"data/test_train_set.p\", \"rb\"))"
   ]
  },
  {
   "cell_type": "code",
   "execution_count": 17,
   "id": "35038253",
   "metadata": {},
   "outputs": [
    {
     "name": "stdout",
     "output_type": "stream",
     "text": [
      "Number of words 1 :  3235\n",
      "Number of words 2 :  2239\n",
      "Number of words 3 :  1538\n",
      "Number of words 4 :  1280\n",
      "Number of words 5 :  1063\n",
      "Number of words 6 :  912\n",
      "Number of words 7 :  766\n",
      "Number of words 8 :  647\n",
      "Number of words 9 :  638\n",
      "Number of words 10 :  549\n"
     ]
    }
   ],
   "source": [
    "for i in range(1,11):      \n",
    "    print(\"Number of words \" + str(i) + \" : \", len(test_train_set[i]))"
   ]
  },
  {
   "cell_type": "code",
   "execution_count": 18,
   "id": "ee171533",
   "metadata": {},
   "outputs": [],
   "source": [
    "index_test_train = {}\n",
    "\n",
    "for j in range(1,11):\n",
    "    index_test_train[j] = {}\n",
    "    for word in test_train_set[j]:\n",
    "        index_test_train[j][word] = []"
   ]
  },
  {
   "cell_type": "markdown",
   "id": "a543688a",
   "metadata": {},
   "source": [
    "# For each Important List create Index List for each Word"
   ]
  },
  {
   "cell_type": "code",
   "execution_count": 19,
   "id": "6107d93d",
   "metadata": {},
   "outputs": [
    {
     "name": "stderr",
     "output_type": "stream",
     "text": [
      "100%|██████████| 246525/246525 [06:48<00:00, 603.30it/s]\n"
     ]
    }
   ],
   "source": [
    "for i in tqdm(range(len(train_doc_trf_loaded))):\n",
    "    word_tokens = [token.text for token in train_doc_trf_loaded[i] if(not token.is_stop and not token.is_punct)]\n",
    "    for j in range(1,11):\n",
    "        for word in test_train_set[j]:\n",
    "            if word in word_tokens:\n",
    "                index_test_train[j][word].append(i)"
   ]
  },
  {
   "cell_type": "code",
   "execution_count": 23,
   "id": "0cb9af0a",
   "metadata": {},
   "outputs": [],
   "source": [
    "pickle.dump(index_test_train, open(\"data/index_test_train.p\", \"wb\"))"
   ]
  },
  {
   "cell_type": "code",
   "execution_count": 5,
   "id": "f1e60539",
   "metadata": {},
   "outputs": [],
   "source": [
    "index_test_train = pickle.load(open(\"data/index_test_train.p\", \"rb\"))"
   ]
  },
  {
   "cell_type": "code",
   "execution_count": 53,
   "id": "59fa8eaa",
   "metadata": {},
   "outputs": [
    {
     "name": "stdout",
     "output_type": "stream",
     "text": [
      "List 1 Word count: 3235\n",
      "List 2 Word count: 2239\n",
      "List 3 Word count: 1538\n",
      "List 4 Word count: 1280\n",
      "List 5 Word count: 1063\n",
      "List 6 Word count: 912\n",
      "List 7 Word count: 766\n",
      "List 8 Word count: 647\n",
      "List 9 Word count: 638\n",
      "List 10 Word count: 549\n"
     ]
    }
   ],
   "source": [
    "for i in range(1,11):\n",
    "    print(f'List {i} Word count: {len(index_test_train[i])}')"
   ]
  },
  {
   "cell_type": "markdown",
   "id": "cdd4c114",
   "metadata": {},
   "source": [
    "# Init with 1 word list"
   ]
  },
  {
   "cell_type": "code",
   "execution_count": 87,
   "id": "8b65b51d",
   "metadata": {},
   "outputs": [],
   "source": [
    "blacklist = list(index_test_train[1].values())\n",
    "blacklist = [item for sublist in blacklist for item in sublist]"
   ]
  },
  {
   "cell_type": "code",
   "execution_count": 100,
   "id": "cca76985",
   "metadata": {},
   "outputs": [
    {
     "name": "stdout",
     "output_type": "stream",
     "text": [
      "3235\n"
     ]
    }
   ],
   "source": [
    "print(len(blacklist))"
   ]
  },
  {
   "cell_type": "code",
   "execution_count": 71,
   "id": "98f7acf6",
   "metadata": {},
   "outputs": [
    {
     "name": "stdout",
     "output_type": "stream",
     "text": [
      "[41437, 155659, 104391, 61688, 148480, 59990, 137696, 44791, 44981, 11155, 216326, 147975, 27166, 188249, 224758, 49962, 23986, 50051, 159660, 14120, 130359, 22752, 100626, 115285, 83879, 222582, 238845, 162462, 7011, 106070, 6349, 216487, 173455, 54706, 139516, 203279, 185470, 21254, 185972, 90953, 230819, 208667, 191554, 163294, 188007, 3083, 39026, 45871, 5608, 67945, 217186, 116339, 147722, 160246, 197032, 18501, 93199, 22299, 246038, 203113, 80402, 85230, 22498, 17189, 201318, 101390, 144862, 56055, 191968, 130345, 63636, 113927, 93189, 10567, 139497, 33581, 129145, 141072, 227913, 165551, 86440, 126326, 144917, 228967, 11909, 75360, 178716, 74073, 211407, 126670, 209743, 106867, 216454, 17441, 220554, 8545, 173833, 33542, 191838, 42146, 225160, 12766, 78243, 20645, 133801, 123048, 10559, 36977, 9179, 57687, 21996, 169026, 26288, 7284, 209709, 68875, 178137, 79988, 63323, 14968, 68968, 100549, 222840, 100851, 199300, 228857, 81575, 60868, 189851, 6021, 146639, 209259, 67946, 96560, 6515, 157430, 122733, 47561, 109551, 95619, 77603, 209016, 214223, 244580, 242835, 31242, 29377, 153436, 226729, 206522, 64069, 161326, 221280, 74624, 17748, 15973, 135089, 33814, 102653, 66902, 17244, 121191, 87929, 36497, 9965, 160924, 87405, 79649, 224022, 81216, 109571, 225089, 195522, 78725, 18349, 192445, 93887, 109571, 72054, 79418, 86288, 245639, 154585, 119885, 169237, 76414, 225459, 113912, 50366, 68624, 124099, 189934, 84643, 44624, 186327, 36283, 230132, 152322, 63296, 20479, 65098, 221225, 20217, 29133, 106122, 54809, 203961, 27538, 24659, 64482, 95943, 121870, 30515, 238213, 225058, 112678, 63372, 108082, 29321, 54906, 80666, 216972, 104697, 237464, 75676, 182496, 171010, 242453, 18189, 100796, 104211, 220132, 57214, 96511, 77984, 239720, 95608, 24656, 224283, 53184, 234936, 83550, 244104, 34892, 222940, 71853, 15821, 223461, 54136, 16304, 13567, 105065, 148785, 137971, 132038, 50328, 103323, 191757, 128763, 208907, 164419, 152285, 196434, 91944, 227338, 64314, 209187, 226273, 230241, 157219, 92544, 152640, 24270, 229613, 71848, 200876, 67779, 68530, 14870, 86753, 72304, 47664, 77115, 181120, 88852, 212078, 87933, 31881, 43875, 41174, 34510, 124725, 216848, 106498, 126239, 208183, 231561, 57435, 222594, 51552, 72692, 161915, 189127, 204915, 204771, 52542, 69257, 192539, 181984, 31983, 51436, 62683, 190919, 34620, 63117, 185829, 113992, 215441, 205477, 118258, 125852, 148954, 51605, 134720, 230485, 83278, 111068, 204016, 60119, 50703, 85433, 30498, 106612, 186553, 60373, 118914, 130251, 68889, 228980, 61226, 232864, 95159, 97757, 30484, 44587, 209425, 26523, 197662, 151302, 42724, 76607, 22576, 188845, 171513, 202101, 205964, 19128, 88576, 99232, 205777, 101376, 70277, 84127, 19630, 209569, 73628, 120997, 170551, 106079, 40861, 179398, 173614, 141021, 111035, 164503, 166248, 120480, 133776, 196748, 168438, 100621, 110351, 78213, 39129, 21013, 25716, 104156, 93032, 92408, 186966, 194102, 105383, 122677, 107042, 30659, 54449, 227152, 95270, 184506, 22001, 37839, 215550, 217376, 127626, 222572, 44225, 72501, 98695, 157545, 209217, 147679, 244863, 112553, 75969, 118714, 134625, 195609, 131867, 101207, 96049, 210360, 158744, 137631, 222629, 24672, 160542, 214057, 85537, 214432, 31802, 44026, 203789, 86006, 83704, 60873, 76202, 109522, 58770, 47258, 235908, 150177, 64897, 40132, 94660, 26928, 92409, 212616, 44025, 52758, 45958, 37736, 52013, 110496, 77316, 92429, 197594, 204485, 104785, 155087, 88431, 182807, 232424, 134059, 44612, 93337, 89760, 101094, 176331, 207436, 169525, 183145, 100862, 242027, 34773, 76721, 87739, 34622, 151401, 117737, 199985, 181918, 178926, 225757, 196766, 39661, 214240, 33203, 108004, 51391, 187190, 126967, 169457, 88989, 72071, 129040, 171763, 123271, 234896, 102525, 211169, 239106, 181313, 222860, 203845, 228931, 186513, 62412, 184540, 171230, 74486, 203728, 49567, 201796, 37024, 60294, 73261, 154223, 170949, 107453, 186153, 237211, 44657, 97913, 134448, 82533, 228705, 191914, 172420, 139710, 241191, 181265, 43957, 34497, 179522, 161301, 197396, 213461, 42845, 173585, 62187, 33550, 94223, 220295, 92264, 109731, 109213, 53925, 174341, 191609, 90025, 127188, 130260, 83285, 49483, 39366, 119410, 235331, 73543, 240856, 193841, 32114, 146977, 148826, 60685, 87051, 87051, 209366, 225309, 178750, 129489, 45473, 122797, 188047, 73878, 157927, 77803, 226612, 56383, 210049, 149081, 44889, 59673, 164798, 111264, 232846, 158220, 245175, 198282, 240561, 112266, 34706, 229097, 172158, 73123, 122025, 44507, 59700, 178946, 60339, 105864, 160084, 241451, 178079, 162447, 61691, 75746, 234705, 64845, 198264, 216665, 62637, 226958, 195438, 199190, 55820, 229696, 194336, 95947, 78012, 104385, 225134, 143275, 211359, 57329, 188286, 159532, 228884, 127571, 205459, 106310, 185345, 51056, 100607, 157717, 191777, 168835, 184601, 241031, 92772, 97698, 105323, 171260, 41001, 235667, 68076, 51052, 178086, 64206, 63326, 223297, 74458, 85323, 235697, 227051, 122615, 70073, 49024, 169642, 125924, 42367, 243392, 203479, 244881, 220319, 131819, 162178, 204143, 114206, 200129, 72308, 83300, 133186, 43951, 72540, 245480, 132518, 194973, 175068, 242245, 112947, 206011, 142192, 178050, 110658, 87322, 118372, 158757, 64916, 79658, 105208, 103389, 128419, 199773, 65410, 188991, 158193, 59319, 63592, 184886, 126011, 220257, 183563, 191900, 106093, 120187, 183760, 81245, 159270, 131860, 57894, 68474, 132012, 96000, 51588, 169924, 136996, 109317, 65961, 189074, 99845, 221986, 205556, 199174, 244741, 91263, 239553, 170587, 185465, 130690, 83348, 129856, 160677, 172093, 51665, 48528, 226491, 43671, 121509, 133482, 56535, 209370, 121516, 166193, 88121, 175831, 236815, 201470, 224369, 210055, 147229, 99140, 142286, 159220, 83310, 93184, 199895, 158689, 242234, 225930, 119008, 47323, 209225, 173369, 144288, 188290, 237570, 199707, 161424, 96986, 87264, 47953, 86006, 118958, 231352, 64228, 68413, 205443, 144613, 169965, 169452, 161623, 50400, 154843, 244957, 152952, 165311, 169943, 146198, 155176, 103602, 100008, 144904, 99306, 55470, 164498, 144086, 116474, 104678, 187032, 65668, 48106, 64072, 94980, 160924, 110515, 149428, 67579, 216468, 192681, 84985, 157066, 94309, 70681, 68598, 52408, 218440, 140799, 68001, 53994, 128400, 239555, 50137, 245942, 143525, 214251, 138771, 135778, 76556, 102609, 238683, 52518, 91897, 168901, 53310, 199605, 215033, 217223, 128830, 146609, 220105, 244688, 93775, 76467, 59101, 121221, 163186, 184740, 125667, 207416, 99165, 63189, 215643, 118963, 240796, 90323, 106054, 119554, 183937, 117650, 216885, 95506, 201032, 143154, 91237, 237032, 74858, 143510, 236904, 196539, 173619, 221301, 163067, 149728, 223664, 165398, 70988, 203049, 116162, 162831, 133192, 201722, 107024, 185732, 200237, 144404, 122592, 109089, 182992, 82588, 165881, 153360, 101032, 111987, 58535, 125916, 158693, 196022, 178142, 63880, 63631, 142454, 240942, 97069, 67282, 206930, 108853, 119872, 202261, 205288, 211320, 228632, 168910, 201399, 62192, 89641, 74916, 242607, 200915, 168105, 87385, 91444, 200974, 84949, 71713, 60149, 158000, 197731, 234782, 120632, 63439, 226375, 148784, 126108, 239097, 204669, 71891, 57592, 141581, 220359, 193804, 72058, 142004, 118544, 201973, 157462, 193863, 179259, 239455, 172054, 136806, 226683, 90340, 127254, 189017, 162664, 226156, 130626, 194006, 88594, 67728, 202383, 74858, 118452, 202238, 169701, 240888, 135568, 86763, 147909, 138398, 152966, 158132, 116640, 162178, 105207, 94329, 71698, 189590, 126270, 225020, 238381, 181320, 89234, 103247, 191938, 102558, 137206, 171091, 243926, 146521, 237587, 93672, 184649, 238799, 104927, 233064, 65421, 87590, 228561, 115794, 108448, 135235, 245272, 73440, 72994, 161722, 68589, 159451, 223087, 210362, 99411, 196295, 82972, 83203, 67953, 128260, 72695, 90665, 177613, 208724, 90708, 197839, 80383, 106286, 233713, 244384, 127956, 171261, 91082, 109069, 223211, 72441, 186815, 223605, 119742, 209152, 112815, 144726, 105648, 133418, 186390, 124994, 79162, 96709, 78980, 136841, 218080, 105305, 228065, 224867, 71283, 192890, 102923, 219452, 126518, 92276, 220816, 204958, 190248, 238706, 203153, 122206, 109456, 76052, 161126, 200331, 150747, 105966, 240011, 155505, 84734, 149898, 74943, 224426, 210198, 160004, 209332, 71006, 230427, 102174, 223686, 178708, 216266, 103619, 232451, 94224, 234744, 236028, 219489, 184087, 176531, 197738, 97895, 240260, 94559, 132205, 138760, 118527, 159671, 73858, 105455, 207777, 167322, 109952, 77573, 198825, 93196, 133024, 71859, 206223, 132958, 219674, 112379, 191391, 81165, 90963, 169544, 197145, 115755, 188096, 203806, 125242, 160744, 105073, 73071, 78545, 120236, 196508, 162372, 226034, 125748, 105373, 192940, 206692, 123582, 102174, 119317, 104530, 206633, 131469, 148035, 215364, 82478, 125777, 196857, 140375, 164833, 233664, 84650, 217692, 207838, 93181, 142534, 220598, 222782, 100965, 158116, 242279, 175708, 203654, 110996, 174792, 227171, 140874, 216966, 87635, 172081, 96006, 104788, 220707, 138928, 207887, 115243, 150295, 160609, 229882, 132192, 82051, 138676, 171817, 229494, 134241, 169830, 197357, 132778, 169989, 226830, 235701, 95646, 121149, 219624, 155032, 125187, 109511, 202765, 173962, 246166, 105200, 232070, 220095, 96724, 235903, 177735, 220590, 88661, 230715, 95305, 132284, 127441, 102095, 105315, 241241, 178586, 112545, 173424, 149010, 162369, 167645, 190725, 206251, 91390, 139232, 151902, 202022, 239745, 103930, 111053, 163277, 98946, 111132, 136153, 234820, 144650, 190464, 218928, 215233, 167798, 142405, 220143, 201285, 201548, 153787, 135777, 87233, 84299, 174511, 180078, 121472, 130060, 183961, 98076, 211274, 217388, 142164, 174148, 216370, 98061, 149253, 242761, 218511, 119398, 196353, 108269, 192778, 134805, 225041, 208435, 181004, 222864, 188269, 185474, 241625, 227189, 218953, 126127, 235652, 231493, 209331, 195674, 205460, 171443, 177756, 108284, 221632, 211864, 208436, 119051, 172627, 98720, 211398, 197954, 148912, 160106, 156544, 213305, 125315, 220565, 236141, 103557, 226024, 190255, 120176, 201622, 168899, 151649, 220471, 220150, 141489, 150030, 245049, 147992, 242432, 172096, 163402, 136726, 90969, 124607, 214577, 127973, 154104, 192387, 244949, 149347, 152096, 105656, 206196, 214379, 112619, 200494, 211013, 212580, 97924, 235281, 210712, 184667, 227581, 223018, 157544, 207214, 201561, 170945, 138219, 170305, 180098, 116410, 214022, 166488, 149380, 194391, 199924, 98967, 128287, 185590, 125765, 161542, 223649, 109573, 226729, 122482, 191450, 183760, 216898, 140847, 240061, 127716, 235175, 122744, 236776, 126626, 154824, 179609, 190955, 166301, 227045, 203031, 124770, 150409, 198612, 172829, 152181, 100955, 166517, 192627, 171662, 98592, 149074, 232506, 223234, 197385, 237818, 141413, 214528, 111319, 128927, 182574, 203885, 126288, 229348, 207216, 206378, 179251, 178247, 194604, 237191, 150410, 166329, 108075, 202009, 179007, 237744, 239246, 162223, 172961, 138835, 149950, 171790, 169778, 186179, 148585, 160855, 170926, 236574, 226159, 223708, 126575, 209490, 206216, 142485, 204530, 204098, 113163, 152787, 110527, 157454, 191349, 179824, 126356, 220951, 137531, 223714, 233852, 143365, 162060, 105708, 226895, 238443, 237657, 164701, 202413, 136915, 226461, 188765, 246517, 137349, 217328, 189550, 132418, 162148, 180112, 138714, 227651, 239386, 128875, 133497, 243708, 202332, 212121, 201207, 195784, 234032, 196588, 125611, 212236, 196194, 132225, 244478, 115190, 142356, 158953, 151965, 188232, 206058, 146028, 229185, 202413, 190704, 206827, 208935, 219377, 227055, 228964, 124436, 216052, 140918, 180815, 169186, 134054, 109529, 120003, 234066, 157535, 132381, 193826, 234054, 121823, 191788, 243143, 119039, 194466, 121847, 117722, 125401, 154855, 117759, 191883, 241037, 194078, 206660, 174120, 121044, 170981, 192076, 171030, 205315, 149520, 135972, 246145, 168335, 188910, 165781, 116726, 151690, 200506, 179866, 222442, 216508, 121862, 193937, 137736, 228051, 141637, 211355, 120103, 158399, 120411, 163993, 118362, 243104, 121839, 234494, 140249, 197879, 127814, 221974, 170740, 115990, 244266, 244933, 187715, 219466, 229107, 219026, 193028, 127358, 207519, 233817, 220434, 117750, 148770, 127835, 188831, 188538, 189818, 179786, 213290, 193664, 218295, 210467, 121486, 142456, 185200, 142563, 210131, 196996, 224201, 205746, 198305, 241299, 229420, 142090, 211415, 220722, 203045, 219520, 167512, 161020, 122852, 173607, 166417, 230064, 237778, 245030, 243278, 213414, 194651, 164370, 188927, 208516, 121842, 162469, 157908, 133279, 158309, 144128, 141595, 201378, 191063, 144577, 236828, 245206, 165512, 215012, 196621, 226392, 163822, 136003, 200208, 169931, 125146, 189157, 224923, 124012, 134424, 150420, 130534, 170028, 206011, 177521, 165624, 226477, 197749, 128177, 221271, 192307, 170526, 131391, 194736, 132042, 226989, 234682, 243783, 187479, 144607, 213011, 190142, 178002, 204568, 205699, 163004, 140731, 197974, 139541, 149119, 149000, 196606, 193185, 218222, 158863, 227760, 149031, 214044, 230422, 141270, 226670, 147995, 133322, 241438, 190430, 161846, 133022, 146476, 134989, 178124, 137666, 211728, 232797, 244310, 244766, 206658, 214349, 211464, 167644, 183220, 195708, 219487, 138731, 219249, 154221, 147756, 140981, 240413, 161334, 228350, 181119, 216020, 187278, 200567, 145592, 149331, 173206, 161253, 244378, 189436, 206706, 245458, 205219, 203892, 204295, 172664, 189157, 225110, 181128, 229301, 139199, 210923, 155659, 240576, 198100, 210664, 172197, 161857, 144011, 137524, 178694, 175699, 219610, 164163, 196875, 203124, 157867, 148514, 157097, 171609, 167710, 235383, 211584, 173720, 222772, 170907, 211694, 181310, 165685, 246152, 190109, 224254, 230403, 220796, 228364, 214716, 216489, 158723, 169196, 211860, 226087, 145619, 160561, 163944, 174664, 215065, 195030, 228524, 237148, 228792, 229593, 147674, 166881, 229524, 148854, 181818, 204287, 205432, 229906, 156929, 161129, 184350, 232713, 176105, 245494, 211674, 163661, 215879, 214658, 208042, 213030, 212838, 148747, 184274, 241419, 229822, 198197, 184079, 145915, 158246, 208290, 206460, 183797, 169556, 167447, 151000, 193981, 197291, 149941, 149674, 215183, 220338, 206795, 148367, 170052, 219035, 223338, 165052, 230482, 221182, 243780, 203907, 164090, 232524, 194250, 218431, 238277, 242920, 237526, 224860, 190128, 190332, 161698, 205898, 218416, 204845, 185697, 152899, 186942, 229250, 180631, 193936, 194358, 226024, 163308, 196592, 173049, 225752, 182446, 209382, 156552, 179355, 166156, 162483, 167334, 209505, 229474, 191371, 189523, 215524, 160007, 176646, 166354, 244354, 166138, 157851, 170553, 163946, 240602, 214077, 159672, 239647, 240859, 211758, 218752, 207435, 229670, 234217, 207591, 188544, 219289, 159863, 223527, 184834, 222040, 224423, 241030, 198434, 163748, 202573, 190260, 179118, 226886, 241224, 224899, 189500, 220491, 217250, 215676, 228226, 189026, 217475, 180867, 178651, 240609, 185698, 206786, 168710, 236975, 230229, 205227, 214264, 225783, 209875, 205332, 201603, 218084, 224885, 225429, 211801, 205514, 222704, 223784, 227830, 196216, 236063, 217399, 169385, 198659, 175299, 196212, 210770, 245656, 234953, 225277, 185523, 219496, 170093, 214911, 199158, 240851, 184821, 239478, 191772, 189220, 239542, 214821, 228422, 234153, 240646, 209932, 193295, 200918, 207371, 210837, 214614, 201721, 203141, 209810, 198080, 185859, 204302, 205981, 215015, 211166, 240927, 191289, 226589, 212761, 238173, 217040, 217621, 182074, 185986, 183501, 234795, 227701, 194579, 187555, 238474, 206977, 205043, 225000, 186492, 197230, 194123, 216521, 190914, 232738, 225666, 242700, 188616, 246087, 199704, 206543, 190288, 195741, 236254, 235285, 192609, 228623, 243973, 239508, 210366, 239573, 186653, 196328, 202799, 200852, 213348, 204415, 188030, 195464, 202378, 198190, 220677, 234128, 245916, 221466, 232865, 202016, 213809, 246351, 211234, 201487, 199648, 224466, 219005, 205994, 216584, 197172, 212739, 209132, 233464, 212962, 198692, 215900, 208350, 208780, 223244, 193118, 194163, 212252, 195717, 222360, 222804, 203296, 239789, 223413, 201455, 210509, 237726, 205536, 201789, 195373, 199911, 216830, 217945, 208385, 226541, 215048, 218300, 208707, 215826, 223360, 244168, 212115, 211227, 218683, 226698, 205075, 231573, 242353, 209285, 203308, 199054, 225599, 202211, 243631, 214879, 211431, 207745, 234411, 233070, 202622, 211032, 201494, 208441, 233428, 236445, 214660, 213909, 241383, 211505, 227286, 215903, 216106, 239827, 220832, 244733, 210032, 207805, 222737, 242905, 230418, 246205, 217030, 234491, 235268, 232750, 216365, 233339, 222594, 224845, 223889, 223316, 213450, 227959, 226970, 217454, 243487, 219565, 225548, 217599, 237037, 245854, 242018, 244994, 242660, 222471, 243662, 218367, 222166, 224178, 234106, 232618, 235551, 220546, 221199, 244770, 229534, 242255, 229967, 239908, 223511, 229160, 241426, 239599, 224720, 230822, 233950, 239688, 237257, 237257, 236636, 235367, 241935, 244168, 241977, 239391, 241577, 244508, 245862]\n"
     ]
    }
   ],
   "source": [
    "print(blacklist)"
   ]
  },
  {
   "cell_type": "markdown",
   "id": "4bc58913",
   "metadata": {},
   "source": [
    "# Create blacklists for each important list while observing the other lists"
   ]
  },
  {
   "cell_type": "code",
   "execution_count": 117,
   "id": "f7aaf114",
   "metadata": {},
   "outputs": [
    {
     "name": "stdout",
     "output_type": "stream",
     "text": [
      "List 2 word count: 2239\n",
      "1 count: 80\n",
      "2 count: 1\n",
      "New blacklist length: 2158\n",
      "Deleted once        : 80\n",
      "Deleted more        : 1\n",
      "Sum                 : 2239\n",
      "\n",
      "List 3 word count: 1538\n",
      "1 count: 86\n",
      "2 count: 2\n",
      "3 count: 0\n",
      "New blacklist length: 1450\n",
      "Deleted once        : 86\n",
      "Deleted more        : 2\n",
      "Sum                 : 1538\n",
      "\n",
      "List 4 word count: 1280\n",
      "1 count: 71\n",
      "2 count: 4\n",
      "3 count: 0\n",
      "4 count: 0\n",
      "New blacklist length: 1205\n",
      "Deleted once        : 71\n",
      "Deleted more        : 4\n",
      "Sum                 : 1280\n",
      "\n",
      "List 5 word count: 1063\n",
      "1 count: 93\n",
      "2 count: 6\n",
      "3 count: 0\n",
      "4 count: 0\n",
      "5 count: 0\n",
      "New blacklist length: 964\n",
      "Deleted once        : 93\n",
      "Deleted more        : 6\n",
      "Sum                 : 1063\n",
      "\n",
      "List 10 word count: 549\n",
      "1 count: 68\n",
      "2 count: 5\n",
      "3 count: 0\n",
      "4 count: 0\n",
      "5 count: 0\n",
      "6 count: 0\n",
      "7 count: 0\n",
      "8 count: 0\n",
      "9 count: 0\n",
      "10 count: 0\n",
      "New blacklist length: 476\n",
      "Deleted once        : 68\n",
      "Deleted more        : 5\n",
      "Sum                 : 549\n",
      "\n"
     ]
    }
   ],
   "source": [
    "import copy\n",
    "\n",
    "importantLists = [2,3,4,5,10]\n",
    "blackListNew = {}\n",
    "\n",
    "useBlacklist = copy.deepcopy(blacklist)\n",
    "\n",
    "for list_number in importantLists:\n",
    "    print(f'List {list_number} word count: {len(index_test_train[list_number])}')\n",
    "    \n",
    "    deleted_List = {}\n",
    "    blackListNew[list_number] = []\n",
    "    \n",
    "    for j in range(1, list_number + 1):\n",
    "        deleted_List[j] = [] \n",
    "\n",
    "    for word in index_test_train[list_number]:\n",
    "        deleted_counter = 0\n",
    "        \n",
    "        index_list_counter = {}\n",
    "        \n",
    "        for index in index_test_train[list_number][word]:\n",
    "            index_list_counter[index] = 0\n",
    "            \n",
    "            if index in useBlacklist:\n",
    "                deleted_counter = deleted_counter + 1\n",
    "            \n",
    "            for checkList in importantLists:\n",
    "                for checkWord in index_test_train[checkList]:\n",
    "                    for checkIndex in index_test_train[checkList][checkWord]:\n",
    "                        if(checkIndex == index):\n",
    "                            index_list_counter[index] = index_list_counter[index] +1\n",
    "            \n",
    "        for j in range(1,list_number+1):\n",
    "            if deleted_counter == j:\n",
    "                deleted_List[j].append(word)\n",
    "                \n",
    "        if deleted_counter == 0:\n",
    "            indexToDelete = index\n",
    "            for potentialIndex in index_list_counter:\n",
    "                if(index_list_counter[potentialIndex] <= index_list_counter[indexToDelete]):\n",
    "                    indexToDelete = potentialIndex\n",
    "                \n",
    "            blackListNew[list_number].append(indexToDelete)\n",
    "            useBlacklist.append(indexToDelete)\n",
    "    \n",
    "    deletedMore = 0\n",
    "    for j in range(2, list_number+1):\n",
    "        deletedMore = deletedMore + len(deleted_List[j])\n",
    "    \n",
    "    for j in range(1, list_number+1):\n",
    "        print(f'{j} count: {len(deleted_List[j])}')\n",
    "    \n",
    "    print(f'New blacklist length: {len(blackListNew[list_number])}')\n",
    "    print(f'Deleted once        : {len(deleted_List[1])}')\n",
    "    print(f'Deleted more        : {deletedMore}')\n",
    "    print(f'Sum                 : {len(blackListNew[list_number]) + len(deleted_List[1]) + deletedMore}')\n",
    "    print(\"\")"
   ]
  },
  {
   "cell_type": "markdown",
   "id": "8a0b43d0",
   "metadata": {},
   "source": [
    "# Punch all Blacklists together"
   ]
  },
  {
   "cell_type": "code",
   "execution_count": 118,
   "id": "a66615aa",
   "metadata": {},
   "outputs": [
    {
     "name": "stdout",
     "output_type": "stream",
     "text": [
      "Blacklist 2 length: 2158\n",
      "Blacklist 3 length: 1450\n",
      "Blacklist 4 length: 1205\n",
      "Blacklist 5 length: 964\n",
      "Blacklist 10 length: 476\n",
      "complete length:  9488\n"
     ]
    }
   ],
   "source": [
    "completeBlacklist = copy.deepcopy(blacklist)\n",
    "\n",
    "for bList in importantLists:\n",
    "    print(f'Blacklist {bList} length: {len(blackListNew[bList])}')\n",
    "    completeBlacklist += blackListNew[bList]\n",
    "\n",
    "print(\"complete length: \", len(completeBlacklist))"
   ]
  },
  {
   "cell_type": "markdown",
   "id": "97a3725c",
   "metadata": {},
   "source": [
    "# Evaluate complete Blacklist"
   ]
  },
  {
   "cell_type": "code",
   "execution_count": 121,
   "id": "13da4d8f",
   "metadata": {},
   "outputs": [
    {
     "name": "stdout",
     "output_type": "stream",
     "text": [
      "List 2 word count: 2239\n",
      "1 count: 2233\n",
      "2 count: 6\n",
      "Deleted once : 2233\n",
      "Deleted more : 6\n",
      "%            : 0.0026869682042095834\n",
      "Sum          : 2239\n",
      "\n",
      "List 3 word count: 1538\n",
      "1 count: 1536\n",
      "2 count: 2\n",
      "Deleted once : 1536\n",
      "Deleted more : 2\n",
      "%            : 0.0013020833333333333\n",
      "Sum          : 1538\n",
      "\n",
      "List 4 word count: 1280\n",
      "1 count: 1276\n",
      "2 count: 4\n",
      "Deleted once : 1276\n",
      "Deleted more : 4\n",
      "%            : 0.003134796238244514\n",
      "Sum          : 1280\n",
      "\n",
      "List 5 word count: 1063\n",
      "1 count: 1057\n",
      "2 count: 6\n",
      "Deleted once : 1057\n",
      "Deleted more : 6\n",
      "%            : 0.005676442762535478\n",
      "Sum          : 1063\n",
      "\n",
      "List 10 word count: 549\n",
      "1 count: 544\n",
      "2 count: 5\n",
      "Deleted once : 544\n",
      "Deleted more : 5\n",
      "%            : 0.009191176470588236\n",
      "Sum          : 549\n",
      "\n"
     ]
    }
   ],
   "source": [
    "useBlacklist = copy.deepcopy(completeBlacklist)\n",
    "\n",
    "for list_number in importantLists:\n",
    "    print(f'List {list_number} word count: {len(index_test_train[list_number])}')\n",
    "    \n",
    "    deleted_List = {}\n",
    "    \n",
    "    for j in range(1, list_number + 1):\n",
    "        deleted_List[j] = [] \n",
    "\n",
    "    for word in index_test_train[list_number]:\n",
    "        deleted_counter = 0\n",
    "        \n",
    "        index_list_counter = {}\n",
    "        \n",
    "        for index in index_test_train[list_number][word]:\n",
    "            index_list_counter[index] = 0\n",
    "            \n",
    "            if index in useBlacklist:\n",
    "                deleted_counter = deleted_counter + 1\n",
    "            \n",
    "        for j in range(1,list_number+1):\n",
    "            if deleted_counter == j:\n",
    "                deleted_List[j].append(word)                \n",
    "    \n",
    "    deletedMore = 0\n",
    "    for j in range(2, list_number+1):\n",
    "        deletedMore = deletedMore + len(deleted_List[j])\n",
    "    \n",
    "    for j in range(1, 3):\n",
    "        print(f'{j} count: {len(deleted_List[j])}')\n",
    "    \n",
    "    print(f'Deleted once : {len(deleted_List[1])}')\n",
    "    print(f'Deleted more : {deletedMore}')\n",
    "    print(f'%            : {deletedMore / len(deleted_List[1])}')\n",
    "    print(f'Sum          : {len(deleted_List[1]) + deletedMore}')\n",
    "    print(\"\")"
   ]
  },
  {
   "cell_type": "code",
   "execution_count": 122,
   "id": "6c1b8ebe",
   "metadata": {},
   "outputs": [],
   "source": [
    "pickle.dump(completeBlacklist, open(\"data/completeBlacklist.p\", \"wb\"))"
   ]
  },
  {
   "cell_type": "code",
   "execution_count": 123,
   "id": "988ce07a",
   "metadata": {},
   "outputs": [
    {
     "name": "stdout",
     "output_type": "stream",
     "text": [
      "9488\n"
     ]
    }
   ],
   "source": [
    "print(len(completeBlacklist))"
   ]
  },
  {
   "cell_type": "code",
   "execution_count": null,
   "id": "9357699d",
   "metadata": {},
   "outputs": [],
   "source": []
  }
 ],
 "metadata": {
  "kernelspec": {
   "display_name": "Python 3",
   "language": "python",
   "name": "python3"
  },
  "language_info": {
   "codemirror_mode": {
    "name": "ipython",
    "version": 3
   },
   "file_extension": ".py",
   "mimetype": "text/x-python",
   "name": "python",
   "nbconvert_exporter": "python",
   "pygments_lexer": "ipython3",
   "version": "3.8.8"
  }
 },
 "nbformat": 4,
 "nbformat_minor": 5
}

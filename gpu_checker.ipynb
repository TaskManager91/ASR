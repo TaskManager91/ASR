{
 "cells": [
  {
   "cell_type": "code",
   "execution_count": 1,
   "metadata": {},
   "outputs": [],
   "source": [
    "import requests\n",
    "from bs4 import BeautifulSoup"
   ]
  },
  {
   "cell_type": "code",
   "execution_count": 15,
   "metadata": {},
   "outputs": [],
   "source": [
    "url_list = ['https://www.mediamarkt.de/de/category/_nvidia-rtx-3080-ti-796039.html']\n",
    "headers = {\n",
    "    'User-Agent': 'Mozilla/5.0 (Windows NT 10.0; Win64; x64) AppleWebKit/537.36 (KHTML, like Gecko) Chrome/91.0.4472.77 Safari/537.36',\n",
    "    \n",
    "}\n",
    "\n",
    "page = requests.get(url_list[0], headers=headers)\n",
    "\n",
    "soup = BeautifulSoup(page.content, 'html.parser')"
   ]
  },
  {
   "cell_type": "code",
   "execution_count": 16,
   "metadata": {},
   "outputs": [
    {
     "name": "stdout",
     "output_type": "stream",
     "text": [
      "<!DOCTYPE html>\n",
      "\n",
      "<html lang=\"de\">\n",
      "<head>\n",
      "<title>MediaMarkt</title>\n",
      "<meta content=\"width=device-width, initial-scale=1, maximum-scale=1\" name=\"viewport\"/>\n",
      "<meta content=\"text/html; charset=utf-8\" http-equiv=\"Content-Type\">\n",
      "<link href=\"favicon.png\" rel=\"icon\" type=\"image/x-icon\"/>\n",
      "<style>html{background:#f2f2f2}body{background:#fff;font-family:Arial;font-size:14px;line-height:1.5;margin:0 auto;max-width:775px;padding:3% 5%}h1{font-size:40px;font-weight:300;margin:0;padding:0}img{height:auto;max-width:100%}a{color:#000;text-decoration:underline}.cf:after{clear:both;content:\".\";display:block;height:0;visibility:hidden}.cf{margin-bottom:40px}.cf a{float:right}p{margin-bottom:20px;margin-top:0}span{font-weight:700}@media only screen and (max-width:768px){body{margin:0 auto;padding:3%;width:94%}.cf a{display:block;float:none}.cf a,h1{text-align:center}}</style>\n",
      "<script type=\"text/javascript\">\n",
      "    //<![CDATA[\n",
      "    (function(){\n",
      "      window._cf_chl_opt={\n",
      "        cvId: \"2\",\n",
      "        cType: \"interactive\",\n",
      "        cNounce: \"95859\",\n",
      "        cRay: \"65d2ca88cda6c4a4\",\n",
      "        cHash: \"94142a24375bcd1\",\n",
      "        cFPWv: \"g\",\n",
      "        cTTimeMs: \"4000\",\n",
      "        cLt: \"n\",\n",
      "        cRq: {\n",
      "          ru: \"aHR0cHM6Ly93d3cubWVkaWFtYXJrdC5kZS9kZS9jYXRlZ29yeS9fbnZpZGlhLXJ0eC0zMDgwLXRpLTc5NjAzOS5odG1s\",\n",
      "          ra: \"TW96aWxsYS81LjAgKFdpbmRvd3MgTlQgMTAuMDsgV2luNjQ7IHg2NCkgQXBwbGVXZWJLaXQvNTM3LjM2IChLSFRNTCwgbGlrZSBHZWNrbykgQ2hyb21lLzkxLjAuNDQ3Mi43NyBTYWZhcmkvNTM3LjM2\",\n",
      "          rm: \"R0VU\",\n",
      "          d: \"gk6z9t5nsRYNzYkt8WBSKJqfYyoqEcCJRPSSi6FzRZrMB4CG0T98I2yWVxPm4VRYx0S/FDTdm3B71RBHTlFaSjqdfDtMPP7G1PDKHlL+XZPild51o6m08jLyTP81lFEYaXJ2k5/ptbPn9QOSiEjP38i3bBt0FXWly+/tkYUY6/fY95uq4O96CqHcSNcxtlNEzeeQBVG1Ti0LhkR5XLCZKoxUTHSrEXVt1C7H3SjU5AQ1nQEboAY03ralY9IWQodB+YGalLcOr97lbx88rqxURAMMdmNvo+Br2jdPW5SQhfmZSp0fZcsiU/v63jmW41fJgriGXieVkNU9IzcZCga7hGzkpw5Of/fDeWU7tJMmvseSkjNiWQSFVbMBSP+1orhPsWohZnfuy/HHAOqJB8ldAIWyUB0XCIYYtuZkA7plthlQ79pA7R6Hiynr5SXABb8P4njLTJ27JuntbXTi8nkZIFqsshMpDD0r0DVzlceq3GiZ1of5EhriivhmA1rDvHiLAOcecBXCHx/K4JUIunrmYesaVmAoKfjRoBQrx/jfysu5hK+yqhNWbhDuKIQpsiXen6OAhsEtb18hGLvruslJrNdcHjDdtRv1Jt1DOivaKknUXc7ow5jgBZDKGQs1+leAPfRLU0gU0hrdKUR0C61nY+BlOw2DBwA/1cAkfNl8J8Y+7AkGfmMCp5Fdrxi2xLhb1aQJKd9yOc0WuTPKbORe145q8jK5ASKkSI3iUA21otkHHsFlphjMrPQAYNL0jef9BV4gIe4juoBlMkReRoWmlu+SlasZli4B7CAGuK9tMhgPYolNT4NEKPTtfg1HuV/DYJRgwx91hFTAb68DjZmSN9mnPlJrGpHGLfHXRwMMIaTFyDTLPL1zIHuXiHavUBx6VLvEkiiZlSZRA4m6KenTPVOv0hm5iDFeO8s2zCFVTZA=\",\n",
      "          t: \"MTYyMzMzMDExNS45NzUwMDA=\",\n",
      "          m: \"Q7znN8BBNFCVX5umAHcVwCpRgQfNUe12r45DAXpUNh8=\",\n",
      "          i1: \"SAnE8udWouMSQmiUBNwTtw==\",\n",
      "          i2: \"ES/Lyvsx3ZRHo7Tz2XA5ow==\",\n",
      "          zh: \"q1ZR4e29hYz+cTx2o5UYJG1hFifFh0loDJNTfBOG7gU=\",\n",
      "          uh: \"Y5LlyydP1Ds31Pd0ghbhW0fhZ9YPHd2sYb5KsLbsEg0=\",\n",
      "          hh: \"+dgxVyY+fQBum8yrY3Q9pqqEvjydD2WPU3jRaUrPF1o=\",\n",
      "        }\n",
      "      };\n",
      "    }());\n",
      "    //]]>\n",
      "    </script>\n",
      "</meta></head>\n",
      "<body>\n",
      "<div class=\"cf\">\n",
      "<a href=\"index.html\">\n",
      "<img alt=\"logo\" class=\"logo\" src=\"data:image/svg+xml;base64,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\" width=\"200\"/>\n",
      "</a>\n",
      "</div>\n",
      "<p>\n",
      "\t\tLieber Besucher,\n",
      "\t\t</p>\n",
      "<p>\n",
      "           \tDas ging uns leider zu schnell. Um fortzufahren und alle Angebote von Mediamarkt zu sehen, vervollständigen Sie bitte nachfolgendes Captcha.\n",
      "\t\t</p>\n",
      "<form action=\"/de/category/_nvidia-rtx-3080-ti-796039.html?__cf_chl_captcha_tk__=9b58bb6b56b9bba8b11266099a781d7da453a860-1623330115-0-AeIRYMnS-Q7oC7InLC-aWUlPLOdZm5ZmyqTG9WTlku3z_FkbY6MRaJfG-L_u3A4TNqbHDjhvx503ZP7-3n5qMIE1qdXYMcCzJF8u5mZWbS13OFNbzVTgzk9BV9FPW4x8yOYT0Ovt-YEq50HO6cRTvBQ10eo9CRilnqqsoLcgfFZq_eoXLr6caNHX2xy6ss8u-quhith1ybuHMQgRwa37W4GYy3S9Ee6Wa4aKmOXzbj45f4cAcCHbbcDUd-MxSaJOfeH-O0gYHQ_fxqK8Fy61UFNRBFj6So80aM9v70fE6IE1J-FbsiDy8IVCAGNZ57mWyp0VeqGsDG2EJ4_AbwB40QKvwRVEH5zng_c4kmdpaq39JFsNwCF0Q3MnWEpYsPuSeVFcxfkxieHUUpQqhbKF9EaLtnSVFrF1FOcPG-xsjjcA3vBP9y4pf_WVHMZw8hrZC71kROWPrnqp7mkggqbdMpRXAprd-DkV9GcowjulXs7b4A3pb8Wtd6iG5u8JYoJfFG6o0XwXeOW5CiM1pSFzNUTmMLDXn-4ga_XPf0Zf5cLZEQG1kNv18b8NFg43PfoOnRrMkH5R9A4NU0fhi3kZM4TDVst03nttXvvtTdl6Nt0P_xz3AAXO-jzL9_C50T-VoT0yv_lJSu-SeAl23sD2557kkTsJ0oKSYbLcXJfHfUSZQwzEuyHM224cAtiSrFjyYg\" class=\"challenge-form interactive-form\" enctype=\"application/x-www-form-urlencoded\" id=\"challenge-form\" method=\"POST\">\n",
      "<div id=\"cf-please-wait\">\n",
      "<div id=\"spinner\">\n",
      "<div id=\"cf-bubbles\">\n",
      "<div class=\"bubbles\"></div>\n",
      "<div class=\"bubbles\"></div>\n",
      "<div class=\"bubbles\"></div>\n",
      "</div>\n",
      "</div>\n",
      "<p data-translate=\"please_wait\" id=\"cf-spinner-please-wait\">Please stand by, while we are checking your browser...</p>\n",
      "<p data-translate=\"redirecting\" id=\"cf-spinner-redirecting\" style=\"display:none\">Redirecting...</p>\n",
      "</div>\n",
      "<input name=\"r\" type=\"hidden\" value=\"6b0c3e4eb0a2d12ea8f234ca14a385ca32d55d39-1623330115-0-AamSNVt3K+iHhgDsvD1WWBXSbPq7ClP6ZpolSLHZBB1I4s37vmZBWp3GfEn4O1Q0k308HXl/AUWkvjt55umQbJvn/D/CJA49yfTpFHrLydlh7TtZdavgTIWEN9NCyFRCI9TKWWMgchXO0cbfy9e4dU7oo/g2WYN2pFuTfwVyukR3y65ZRuwWZwb7VhFPhq5YUVJaOye0GU+F1EE9nqpJqqLbZ/1BAGXmyjEkNgFYhSZpr2fNc+BiYLJTfIMwkKHLztFeTNfatRzVo5Dtybll3DB1w2Si/SreYWH5zj2tQ2Buth63aVtUzvscpUiTkEUMj8VJJM73CYW3tIqBLLQ1Vw4iZf9QWhAbuORMqnlGS7mP0DA+XAZ4mxN6GpMZb86kH2chhZN8sdFtEiX8QDL7WGNFaWFsty/22gE/kifcA8EauTqHlv/lk/kqLfQzMowRkzsbS7kC6m8Tk7yeogTygGxaVmxTQMSs7tU9zEvLE4IhK9UnseXBTvgVmHmRlvx7ozatI+hkzAick+xKQGs2gs6HDsnkPm2WRY54clStOZxUn/h7owJts2pRoyX3SByzO/UGPwUPQQaEAH3n51Co1IWmK2taJc3UN15XxP70YuotWvkH4dtksz5HcqI0bxUApPn8NG6/AkGsOuakHylhEYq01K3kTKn58k+XD+UNaVcLNL1k+StpWe4Ch3eRxMyuFJWT9y+9hTfFs6BGNEG3K5hsgAzx/8tZNyXXDPXuVglbxqcujHoMKx58TENnL59s7/6XtsMv6cHMKNub4mnws7J0AWJ8dIYsRn6PLNmU9fuc0CNIYWCXxy8DeL3YU+uNe9dDJ9HgwVbFmPih1WxhVzODboYTCJs2GnuJnU9Njq1Xm2yBEoNJBTReSHskvZEIppiDNNuvbrflSKhLnP7FEFFJdLoPZFpqSBaTZvFKBOM7GIy+TJ09RxQzm3SLJPs8usv3XcyGeLhQRjXpDyHJ1sJ1LURLmE21nPCXdcMPfFboaM3SjNlEiEna4X5waOCdczfKgZdTJb07K1xICZ7C797OlALl2hlyehV8UcDZihOb8ajQvQtjUIoGBvbglGFY3n57CKdR4i1SqgAyo+2b1JZ4GDgaagih9PcxNOHAB3LwDZuMnCunjRJ25xp1DD9HJzVpmUWEnBFG9onpH8woRQRbO4vpgndxz4CR251iLV4jx8j42oJi658VdAKYQl8rOmFNI8oQruzjnbZ4ReEvw4lEmMZ1XKwjFJXmMS77wc6cJ0V8OTcMVK2qIJ+JlfM/RABg1XHcqZYL04UsNTmQyigUsSiPna2NHALevtLNPp+eR/HNZP9lq/MoAcJYgnU4tCjlh5Vt4sVjeJxRWqNEYxkC8Jqac6fEdHRW9ABvY+MlJi/Ci4XRFYWPWq8NBhh+ngjUwB6EoSI7fBh21ICaH0pIOxomzH7w1pdRX1kZ2uCnpW432goAO8E56KmF6Aa3wSR8pA3dERWA0vASudN065/1kW39vu1AgpyqMTZwUs+JsddvJCGJUQjMbmqIPE3ZtU5/yeAXxcla3fpQVMK1FwV6qqeThSEFMOqtfZZ8gJxjyYZtCEa7FqEH4Yx7U16RgjUKwoZDJk7UaIWcVupltIUJbk0CIUiUXE5mpPEqzCD/9zybc9oSGO2/3u2yXFbewN/l4A1aGBd1U4OD8oC4z8cZFL5mh1PbcCu0ZYXCfmZYZ/UDCzhEHqrKYNT4wnbHZVFIDSXTBtn4hH0kGqgIEfB3IXgE3I9o2Bgko64EY8Fz/4jwmSHolXJOvc1DMD7wsQB8AktrPuJ12E1UszjaqgMUYl+215zOdUe2+bJM5n5Q8vefc1so9jRsAMgBYSrZSHtnhmWxG/tPE/aVUIFLWNwTFlDpoZczIa+yMp4eYnyZ1fn/ItW59OxRK+rk06JEPOBroFhrkZGpFjOjpKof3zE=\"/>\n",
      "<input name=\"cf_captcha_kind\" type=\"hidden\" value=\"h\"/>\n",
      "<input name=\"vc\" type=\"hidden\" value=\"bfe437c5d26299685c0c509e41721ea0\"/>\n",
      "<noscript class=\"cf-captcha-info\" id=\"cf-captcha-bookmark\">\n",
      "<h1 data-translate=\"turn_on_js\" style=\"color:#bd2426;\">Please turn JavaScript on and reload the page.</h1>\n",
      "</noscript>\n",
      "<div class=\"cookie-warning\" data-translate=\"turn_on_cookies\" id=\"no-cookie-warning\" style=\"display:none\">\n",
      "<p data-translate=\"turn_on_cookies\" style=\"color:#bd2426;\">Please enable Cookies and reload the page.</p>\n",
      "</div>\n",
      "<script type=\"text/javascript\">\n",
      "  //<![CDATA[\n",
      "    var a = function() {try{return !!window.addEventListener} catch(e) {return !1} },\n",
      "      b = function(b, c) {a() ? document.addEventListener(\"DOMContentLoaded\", b, c) : document.attachEvent(\"onreadystatechange\", b)};\n",
      "      b(function(){\n",
      "        var cookiesEnabled=(navigator.cookieEnabled)? true : false;\n",
      "        if(!cookiesEnabled){\n",
      "          var q = document.getElementById('no-cookie-warning');q.style.display = 'block';\n",
      "        }\n",
      "      });\n",
      "  //]]>\n",
      "  </script>\n",
      "<div id=\"trk_captcha_js\" style=\"background-image:url('/cdn-cgi/images/trace/captcha/nojs/h/transparent.gif?ray=65d2ca88cda6c4a4')\"></div>\n",
      "</form>\n",
      "<script type=\"text/javascript\">\n",
      "    //<![CDATA[\n",
      "    (function(){\n",
      "        var isIE = /(MSIE|Trident\\/|Edge\\/)/i.test(window.navigator.userAgent);\n",
      "        var trkjs = isIE ? new Image() : document.createElement('img');\n",
      "        trkjs.setAttribute(\"src\", \"/cdn-cgi/images/trace/captcha/js/transparent.gif?ray=65d2ca88cda6c4a4\");\n",
      "        trkjs.id = \"trk_captcha_js\";\n",
      "        trkjs.setAttribute(\"alt\", \"\");\n",
      "        document.body.appendChild(trkjs);\n",
      "        var cpo=document.createElement('script');\n",
      "        cpo.type='text/javascript';\n",
      "        cpo.src=\"/cdn-cgi/challenge-platform/h/g/orchestrate/captcha/v1?ray=65d2ca88cda6c4a4\";\n",
      "        document.getElementsByTagName('head')[0].appendChild(cpo);\n",
      "    }());\n",
      "    //]]>\n",
      "    </script>\n",
      "</body>\n",
      "</html>\n"
     ]
    }
   ],
   "source": [
    "print(soup)"
   ]
  },
  {
   "cell_type": "code",
   "execution_count": 8,
   "metadata": {},
   "outputs": [
    {
     "name": "stdout",
     "output_type": "stream",
     "text": [
      "[]\n"
     ]
    }
   ],
   "source": [
    "print(python_jobs)"
   ]
  },
  {
   "cell_type": "code",
   "execution_count": null,
   "metadata": {},
   "outputs": [],
   "source": []
  }
 ],
 "metadata": {
  "kernelspec": {
   "display_name": "Python 3",
   "language": "python",
   "name": "python3"
  },
  "language_info": {
   "codemirror_mode": {
    "name": "ipython",
    "version": 3
   },
   "file_extension": ".py",
   "mimetype": "text/x-python",
   "name": "python",
   "nbconvert_exporter": "python",
   "pygments_lexer": "ipython3",
   "version": "3.8.5"
  }
 },
 "nbformat": 4,
 "nbformat_minor": 4
}

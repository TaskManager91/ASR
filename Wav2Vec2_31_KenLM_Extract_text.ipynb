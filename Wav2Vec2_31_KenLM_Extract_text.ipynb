{
 "cells": [
  {
   "cell_type": "code",
   "execution_count": 2,
   "metadata": {},
   "outputs": [],
   "source": [
    "import spacy\n",
    "import pickle\n",
    "import numpy as np\n",
    "\n",
    "from datasets import load_from_disk, load_dataset\n",
    "\n",
    "from tqdm import tqdm\n",
    "from collections import Counter\n",
    "from datetime import datetime"
   ]
  },
  {
   "cell_type": "code",
   "execution_count": 3,
   "metadata": {},
   "outputs": [],
   "source": [
    "train_text_dataset = load_from_disk(\"E:/Master/data/0_text/train_text\")\n",
    "test_text_dataset = load_from_disk(\"E:/Master/data/0_text/test_text\")\n",
    "val_text_dataset = load_from_disk(\"E:/Master/data/0_text/val_text\")"
   ]
  },
  {
   "cell_type": "code",
   "execution_count": 4,
   "metadata": {},
   "outputs": [
    {
     "name": "stderr",
     "output_type": "stream",
     "text": [
      "100%|███████████████████████████████████████████████████████████████████████| 246525/246525 [00:08<00:00, 30521.86it/s]\n",
      "100%|█████████████████████████████████████████████████████████████████████████| 15588/15588 [00:00<00:00, 30506.58it/s]\n",
      "100%|█████████████████████████████████████████████████████████████████████████| 15588/15588 [00:00<00:00, 30624.85it/s]\n"
     ]
    }
   ],
   "source": [
    "train_file = open(\"data_w/train.txt\", \"w\", encoding=\"utf-8\")\n",
    "\n",
    "for i in tqdm(range(train_text_dataset.shape[0])):\n",
    "    train_file.write(train_text_dataset[i]['sentence'] +  \"\\n\")\n",
    "    \n",
    "train_file.close()\n",
    "\n",
    "test_file = open(\"data_w/test.txt\", \"w\", encoding=\"utf-8\")\n",
    "\n",
    "for i in tqdm(range(test_text_dataset.shape[0])):\n",
    "    test_file.write(test_text_dataset[i]['sentence'] +  \"\\n\")\n",
    "    \n",
    "test_file.close()\n",
    "\n",
    "val_file = open(\"data_w/val.txt\", \"w\", encoding=\"utf-8\")\n",
    "\n",
    "for i in tqdm(range(val_text_dataset.shape[0])):\n",
    "    val_file.write(val_text_dataset[i]['sentence'] +  \"\\n\")\n",
    "    \n",
    "val_file.close()"
   ]
  },
  {
   "cell_type": "code",
   "execution_count": null,
   "metadata": {},
   "outputs": [],
   "source": [
    "# for word transformer LM\n",
    "python \"fairseq_cli/preprocess.py\" --only-source \\\n",
    "--trainpref \"ASR_data/train.txt\" \\\n",
    "--validpref \"ASR_data/test.txt\" \\\n",
    "--testpref \"ASR_data/val.txt\" \\\n",
    "--destdir \"ASR_data/fairseq_word_data/\" \\\n",
    "--thresholdsrc 10 \\\n",
    "--workers 16"
   ]
  },
  {
   "cell_type": "code",
   "execution_count": 9,
   "metadata": {},
   "outputs": [],
   "source": [
    "from datasets import load_from_disk\n",
    "\n",
    "test_sampled_piece_text = load_from_disk(\"E:/Master/data/test_sampled_pro_piece\")\n",
    "train_sampled_piece_text = load_from_disk(\"E:/Master/data/train_sampled_pro_piece\")"
   ]
  },
  {
   "cell_type": "code",
   "execution_count": 10,
   "metadata": {},
   "outputs": [],
   "source": [
    "test_sampled_piece_text = test_sampled_piece_text.remove_columns([\"input_values\"])\n",
    "train_sampled_piece_text = train_sampled_piece_text.remove_columns([\"input_values\"])"
   ]
  },
  {
   "cell_type": "code",
   "execution_count": 16,
   "metadata": {},
   "outputs": [],
   "source": [
    "def add_token_clear(batch):\n",
    "    batch[\"token_clear\"] = batch[\"tokenized\"].replace(\"|\",\" \")\n",
    "    return batch"
   ]
  },
  {
   "cell_type": "code",
   "execution_count": 13,
   "metadata": {},
   "outputs": [],
   "source": [
    "test_sampled_piece_text = test_sampled_piece_text.map(add_token_clear, num_proc=12)"
   ]
  },
  {
   "cell_type": "code",
   "execution_count": 17,
   "metadata": {},
   "outputs": [],
   "source": [
    "train_sampled_piece_text = train_sampled_piece_text.map(add_token_clear, num_proc=12)"
   ]
  },
  {
   "cell_type": "code",
   "execution_count": 14,
   "metadata": {},
   "outputs": [],
   "source": [
    "test_sampled_piece_text.save_to_disk(\"E:/Master/data/0_text/test_piece_text\")"
   ]
  },
  {
   "cell_type": "code",
   "execution_count": 18,
   "metadata": {},
   "outputs": [],
   "source": [
    "train_sampled_piece_text.save_to_disk(\"E:/Master/data/0_text/train_piece_text\")"
   ]
  },
  {
   "cell_type": "code",
   "execution_count": 15,
   "metadata": {},
   "outputs": [
    {
     "name": "stderr",
     "output_type": "stream",
     "text": [
      "100%|██████████████████████████████████████████████████████████████████████████| 15588/15588 [00:01<00:00, 9470.03it/s]\n"
     ]
    }
   ],
   "source": [
    "from tqdm import tqdm\n",
    "\n",
    "test_file = open(\"data_w/test_piece.txt\", \"w\", encoding=\"utf-8\")\n",
    "\n",
    "for i in tqdm(range(test_sampled_piece_text.shape[0])):\n",
    "    test_file.write(test_sampled_piece_text[i]['token_clear']+  \"\\n\")\n",
    "    \n",
    "test_file.close()\n",
    "    "
   ]
  },
  {
   "cell_type": "code",
   "execution_count": 19,
   "metadata": {},
   "outputs": [
    {
     "name": "stderr",
     "output_type": "stream",
     "text": [
      "100%|████████████████████████████████████████████████████████████████████████| 246525/246525 [00:26<00:00, 9271.24it/s]\n"
     ]
    }
   ],
   "source": [
    "from tqdm import tqdm\n",
    "\n",
    "train_file = open(\"data_w/train_piece.txt\", \"w\", encoding=\"utf-8\")\n",
    "\n",
    "for i in tqdm(range(train_sampled_piece_text.shape[0])):\n",
    "    train_file.write(train_sampled_piece_text[i]['token_clear']+  \"\\n\")\n",
    "    \n",
    "train_file.close()"
   ]
  },
  {
   "cell_type": "code",
   "execution_count": null,
   "metadata": {},
   "outputs": [],
   "source": []
  }
 ],
 "metadata": {
  "kernelspec": {
   "display_name": "Python 3",
   "language": "python",
   "name": "python3"
  },
  "language_info": {
   "codemirror_mode": {
    "name": "ipython",
    "version": 3
   },
   "file_extension": ".py",
   "mimetype": "text/x-python",
   "name": "python",
   "nbconvert_exporter": "python",
   "pygments_lexer": "ipython3",
   "version": "3.8.5"
  }
 },
 "nbformat": 4,
 "nbformat_minor": 5
}
